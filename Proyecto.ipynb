{
 "cells": [
  {
   "cell_type": "code",
   "execution_count": 3,
   "id": "3f3ac511",
   "metadata": {},
   "outputs": [],
   "source": [
    "import matplotlib.pyplot as plt\n",
    "import numpy as np\n",
    "import pandas as pd\n",
    "import random\n",
    "from itertools import zip_longest"
   ]
  },
  {
   "cell_type": "code",
   "execution_count": 4,
   "id": "20dad659",
   "metadata": {},
   "outputs": [],
   "source": [
    "class Persona:\n",
    "    def __init__(self,resource,productivity,science,wealth,income,saving,salary,InvestIncome,lifestatus,\n",
    "                GainedInvest,PayInvest,WorkIncome,empleados,status,indice,production,clase,consumption):\n",
    "        self.resource=resource\n",
    "        self.productivity=productivity\n",
    "        self.science=science\n",
    "        self.wealth=wealth\n",
    "        self.income=income\n",
    "        self.saving=saving\n",
    "        self.salary=salary\n",
    "        self.InvestIncome=InvestIncome\n",
    "        self.GainedInvest=GainedInvest\n",
    "        self.PayInvest=PayInvest\n",
    "        self.lifestatus=lifestatus #0->vivo #1-> muerto\n",
    "        self.WorkIncome=WorkIncome\n",
    "        self.empleados=empleados\n",
    "        self.status=status #0->empleado #2->investor #1->ni empleado ni investor\n",
    "        self.indice=indice\n",
    "        self.production=production\n",
    "        self.clase=clase\n",
    "        self.consumption=consumption\n",
    "    #asignar indice\n",
    "    def a_indice(self,i):\n",
    "        self.indice=i\n",
    "    #calcular productivity\n",
    "    def initial_productivity(self,mean,desviacion,t):\n",
    "        p=random.gauss(mean,desviacion)\n",
    "        if (p>0):\n",
    "            self.productivity[t]=p\n",
    "    #calcular production inicial\n",
    "    def initial_production(self,t):\n",
    "        self.production[t]=self.resource*self.productivity[t]*self.science\n",
    "    def initial_wealth(self,i_wealth,t):\n",
    "        self.wealth[t]=i_wealth\n",
    "    def initial_saving(self,i_sav,t):\n",
    "        self.saving[t]=i_sav\n",
    "    #def initial_status(self,i_status,t):\n",
    "        #self.status[t]=i_status\n",
    "    #introducir empleados si es investor\n",
    "    def guardar_empleado(self,identificador): #me va a guardar el indice de cada empleado\n",
    "        self.empleados.append(identificador)\n",
    "\n",
    "    \n"
   ]
  },
  {
   "cell_type": "code",
   "execution_count": 5,
   "id": "c8f7679c",
   "metadata": {},
   "outputs": [],
   "source": [
    "#calcular productividad para cada año\n",
    "def c_productivity(agentes,t):\n",
    "    for i in range(len(agentes)):\n",
    "        if (agentes[i].lifestatus==0):\n",
    "            agentes[i].productivity[t]=agentes[i].productivity[t-1]"
   ]
  },
  {
   "cell_type": "code",
   "execution_count": 6,
   "id": "3f4a2a87",
   "metadata": {},
   "outputs": [],
   "source": [
    "#calcular production\n",
    "def c_production(agentes,t):\n",
    "    for i in range(len(agentes)):\n",
    "        if (agentes[i].lifestatus==0):\n",
    "            produc=agentes[i].resource*agentes[i].productivity[t]*agentes[i].science\n",
    "            agentes[i].production[t]=produc"
   ]
  },
  {
   "cell_type": "code",
   "execution_count": 7,
   "id": "363b85f8",
   "metadata": {},
   "outputs": [],
   "source": [
    "#calcular workIncome\n",
    "def c_workincome(agentes,t):\n",
    "    for i in range(len(agentes)):\n",
    "        if (agentes[i].lifestatus==0):\n",
    "            if (agentes[i].status==2): #si es inversionista\n",
    "                agentes[i].WorkIncome[t]=agentes[i].production[t]\n",
    "            if (agentes[i].status==0 or agentes[i].status==3): #si es empleado agregar status 3\n",
    "                agentes[i].WorkIncome[t]=agentes[i].salary\n",
    "            if (agentes[i].status==1): #si no es empleado ni inversionista\n",
    "                agentes[i].WorkIncome[t]=agentes[i].production[t]"
   ]
  },
  {
   "cell_type": "code",
   "execution_count": 8,
   "id": "b667aa13",
   "metadata": {},
   "outputs": [],
   "source": [
    "#creamos una funcion para definir el investincome\n",
    "def c_investincome(agentes,t):\n",
    "    invest=0\n",
    "    for j in range(len(agentes)):\n",
    "        if (agentes[j].status==2 and agentes[j].lifestatus==0):\n",
    "            for k in agentes[j].empleados:\n",
    "                invest=invest+agentes[k].production[t]-agentes[k].salary\n",
    "            agentes[j].InvestIncome[t]=invest\n"
   ]
  },
  {
   "cell_type": "code",
   "execution_count": 9,
   "id": "88db4404",
   "metadata": {},
   "outputs": [],
   "source": [
    "#creamos una funcion para el income\n",
    "def c_income(agentes,t):\n",
    "    for i in range(len(agentes)):\n",
    "        if (agentes[i].lifestatus==0):\n",
    "            inc=agentes[i].WorkIncome[t]+agentes[i].InvestIncome[t]\n",
    "            agentes[i].income[t]=inc"
   ]
  },
  {
   "cell_type": "code",
   "execution_count": 10,
   "id": "8305a600",
   "metadata": {},
   "outputs": [],
   "source": [
    "#creamos una funcion para wealth\n",
    "def c_wealth(agentes,t,tau):\n",
    "    for i in range(len(agentes)):\n",
    "        if (agentes[i].lifestatus==0):\n",
    "            w=agentes[i].income[t]+agentes[i].saving[t-1]*(1-1.0/tau)\n",
    "            agentes[i].wealth[t]=w"
   ]
  },
  {
   "cell_type": "code",
   "execution_count": 11,
   "id": "ca5a1f91",
   "metadata": {},
   "outputs": [],
   "source": [
    "#creamos funcion de distribucion de clase [0 alive,1 enough,2 satisfied,3 luxury]\n",
    "def dist_clase(lista_consumo,agentes,t,conteo_broke):\n",
    "    for i in range(len(agentes)):\n",
    "        if(agentes[i].lifestatus==0):\n",
    "            for s in range(len(lista_consumo)):\n",
    "                if (s!=len(lista_consumo)-1):\n",
    "                    min=lista_consumo[s]\n",
    "                    max=lista_consumo[s+1]\n",
    "                    if (agentes[i].wealth[t]>=min and agentes[i].wealth[t]<max):\n",
    "                        agentes[i].clase=s\n",
    "                if (s==len(lista_consumo)-1):\n",
    "                    if (agentes[i].wealth[t]>=max):\n",
    "                         agentes[i].clase=s\n",
    "            if (agentes[i].wealth[t]<lista_consumo[0]):\n",
    "                    ind=agentes[i].indice\n",
    "                    #print(ind,t)\n",
    "                    broke_sale(ind,agentes,lista_consumo[0],5000,t,conteo_broke)"
   ]
  },
  {
   "cell_type": "code",
   "execution_count": 12,
   "id": "e18da72e",
   "metadata": {},
   "outputs": [],
   "source": [
    "#asignar consumo a cada uno\n",
    "def asignar_consumo(agentes,lista_consumo,t):\n",
    "    l_desviaciones=[500,1500,4*10**4,2*10**5]\n",
    "    for i in range(len(agentes)):\n",
    "        if(agentes[i].lifestatus==0):\n",
    "            for s in range(len(lista_consumo)):\n",
    "                if agentes[i].clase==s:\n",
    "                    c=np.abs(random.gauss(0,l_desviaciones[s]))\n",
    "                    consumo=lista_consumo[s]+c\n",
    "                    if (consumo>=lista_consumo[s] and consumo<agentes[i].wealth[t]):\n",
    "                        agentes[i].consumption[t]=consumo\n",
    "                    if (consumo<lista_consumo[s] or consumo>agentes[i].wealth[t]):\n",
    "                        agentes[i].consumption[t]=lista_consumo[s]\n",
    "                    if (agentes[i].wealth[t]<lista_consumo[0]): #si esta muerto\n",
    "                        agentes[i].consumption[t]=0"
   ]
  },
  {
   "cell_type": "code",
   "execution_count": 13,
   "id": "fef57923",
   "metadata": {},
   "outputs": [],
   "source": [
    "#funcion de interaccion tipo Broke sale\n",
    "def broke_sale(i,agentes,e_alive,e_satisfied,t,conteo_broke):\n",
    "\n",
    "#for j in range(len(agentes)):\n",
    "    if(agentes[i].wealth[t]<e_alive):\n",
    "        j=random.randint(0,len(agentes)-1)\n",
    "        expected_productivity=0\n",
    "        expected_production=0\n",
    "        if(i!=j and agentes[j].wealth[t]>=1.5*10**4):\n",
    "            expected_productivity=np.divide(agentes[i].productivity[t]+agentes[j].productivity[t],2)\n",
    "            expected_production=agentes[i].resource*expected_productivity*agentes[i].science\n",
    "        #print('riqueza i antes de broke sale',agentes[i].wealth[t],t)\n",
    "        if ((expected_production-e_alive>0) and (agentes[j].status!=0 and agentes[j].status!=3)):\n",
    "            conteo_broke[t]+=1\n",
    "            #agentes[j].resource[t]=agentes[j].resource[t]+agentes[i].resource[t]\n",
    "            #agentes[i].resource[t]=1\n",
    "            #venta del recurso\n",
    "            #print('riqueza j antes de broke sale',agentes[j].wealth[t])\n",
    "            #print('i',i,'j',j,'t',t)\n",
    "            agentes[i].GainedInvest[t]=e_alive\n",
    "            #cambio en la energia\n",
    "            #agentes[i].wealth[t]=agentes[i].wealth[t]+e_alive\n",
    "            #agentes[j].wealth[t]=agentes[j].wealth[t]-e_alive\n",
    "            #print('riqueza i despues bsale',agentes[i].wealth[t])\n",
    "            #print('riqueza j despues bsale',agentes[j].wealth[t])\n",
    "            #cambia la productividad\n",
    "            agentes[i].productivity[t]=np.divide(agentes[i].productivity[t]+agentes[j].productivity[t],2)\n",
    "            #agentes[i].c_production(t)\n",
    "            agentes[i].salary=e_alive\n",
    "            agentes[j].guardar_empleado(agentes[i].indice)\n",
    "            #agentes[i].status[t]=0\n",
    "            #agentes[j].status[t]=2\n",
    "            setattr(agentes[i],'status',0)#cambiar status->empleado\n",
    "            setattr(agentes[j],'status',2)#cambiar status->investor\n"
   ]
  },
  {
   "cell_type": "code",
   "execution_count": 14,
   "id": "0b71f779",
   "metadata": {},
   "outputs": [],
   "source": [
    "def premium_buying(agentes,t,conteo_premium):\n",
    "    pot_sellers=[]\n",
    "    pot_investors=[]\n",
    "    for i in range(len(agentes)):\n",
    "        if (agentes[i].lifestatus==0):\n",
    "            if ((agentes[i].productivity[t]<10000 and agentes[i].productivity[t]>7000) and (agentes[i].status==1)):\n",
    "                    pot_sellers.append(agentes[i])\n",
    "                    #print('seller',agentes[i].indice)\n",
    "            if ((agentes[i].productivity[t]>15000) and (agentes[i].status!=0 and agentes[i].status!=3)):\n",
    "                    pot_investors.append(agentes[i])\n",
    "                    #print('investor',agentes[i].indice)\n",
    "    \n",
    "    #ordenamos los sellers con su productividad\n",
    "    pot_sellers.sort(key=lambda x: x.productivity[t])\n",
    "    #calculmamos suma potenctial investors\n",
    "    suma=sum(c.wealth[t] for c in pot_investors)\n",
    "    #print('suma',suma)\n",
    "    \n",
    "    #calculamos probabilidad individual\n",
    "    probj=0\n",
    "    #tomar un investor aleatorio y calcular su probabilidad\n",
    "    for m in pot_sellers:\n",
    "        j=random.randint(0,len(pot_investors)-1)\n",
    "        probj=np.divide(pot_investors[j].wealth[t],suma)\n",
    "        #print('probabilidad',probj)\n",
    "        if (probj>0.01):\n",
    "                #print('probabilidad para entrar',probj)\n",
    "                #print('comprador',pot_investors[j].indice)\n",
    "                conteo_premium[t]+=1\n",
    "                m.GainedInvest[t]=2*m.consumption[t]\n",
    "                m.salary=1.1*m.production[t]\n",
    "                m.productivity[t]=np.divide(m.productivity[t]\n",
    "                                                         +pot_investors[j].productivity[t],2)\n",
    "                pot_investors[j].guardar_empleado(m.indice)\n",
    "                #m.status[t]=3\n",
    "                #pot_investors[j].status[t]=2\n",
    "                setattr(m,'status',3)#cambiar status a 3->empleado premium buying\n",
    "                setattr(pot_investors[j],'status',2)#cambiar status a 2->investor\n",
    "                #print(m.status)\n",
    "                \n",
    "\n",
    "        \n",
    "                \n"
   ]
  },
  {
   "cell_type": "code",
   "execution_count": 15,
   "id": "526971d7",
   "metadata": {},
   "outputs": [],
   "source": [
    "def check_premium(agentes,t,conteo_broke,conteo_premium):\n",
    "    if conteo_broke[t]==0 and t>5:\n",
    "        premium_buying(agentes,t,conteo_premium)\n",
    "    "
   ]
  },
  {
   "cell_type": "code",
   "execution_count": 16,
   "id": "391ed9da",
   "metadata": {},
   "outputs": [],
   "source": [
    "#funcion para borrar personas que mueren\n",
    "def borrar_agente(agentes,e_alive,t):\n",
    "    for i in range(len(agentes)):\n",
    "        if (agentes[i].wealth[t]<e_alive and agentes[i].status!=0):\n",
    "            setattr(agentes[i],'lifestatus',1) #pasar su estado a muerto\n",
    "            #print('agente que murio',agente.indice)\n",
    "            #print('life status agente muerto',agente.lifestatus)\n",
    "            #print('año de muerte',t)\n"
   ]
  },
  {
   "cell_type": "code",
   "execution_count": 17,
   "id": "4e9a8260",
   "metadata": {},
   "outputs": [],
   "source": [
    "#calcular PayInvest\n",
    "def pay_invest(agentes,t):\n",
    "    pi=0\n",
    "    for j in range(len(agentes)):\n",
    "        if (agentes[j].status==2 and agentes[j].lifestatus==0):\n",
    "            for k in agentes[j].empleados:\n",
    "                pi=pi+agentes[k].GainedInvest[t]\n",
    "                #print('cada paso de tiempo',pi)\n",
    "            agentes[j].PayInvest[t]=pi\n",
    "            #print('final pi',pi)\n",
    "            pi=0\n",
    "        #print('pi vaciado',pi)"
   ]
  },
  {
   "cell_type": "code",
   "execution_count": 18,
   "id": "c429617d",
   "metadata": {},
   "outputs": [],
   "source": [
    "#calcular saving\n",
    "def c_saving(agentes,t):\n",
    "    sav=0\n",
    "    for i in range(len(agentes)):\n",
    "        if(agentes[i].lifestatus==0):\n",
    "            sav=agentes[i].wealth[t]+agentes[i].GainedInvest[t]-agentes[i].consumption[t]-agentes[i].PayInvest[t]\n",
    "            #print(sav,t)\n",
    "            agentes[i].saving[t]=sav\n",
    "            '''\n",
    "        if (agentes[i].status==0):\n",
    "            sav=agentes[i].wealth[t]-2500+agentes[i].GainedInvest[t]-agentes[i].consumption[t]-agentes[i].PayInvest[t]\n",
    "            agentes[i].saving[t]=sav\n",
    "        if (agentes[i].status==1 and agentes[i].wealth[t]>=2500):\n",
    "            sav=agentes[i].wealth[t]+agentes[i].GainedInvest[t]-agentes[i].consumption[t]-agentes[i].PayInvest[t]\n",
    "            agentes[i].saving[t]=sav\n",
    "        if (agentes[i].status==1 and agentes[i].wealth[t]<2500):\n",
    "            sav=0\n",
    "            agentes[i].saving[t]=sav\n",
    "        '''"
   ]
  },
  {
   "cell_type": "code",
   "execution_count": 19,
   "id": "34a4025c",
   "metadata": {},
   "outputs": [],
   "source": [
    "#creamos funcion para contar el numero de agentes en cada clase\n",
    "def conteo_clase(agentes,clase0,clase1,clase2,clase3,t):\n",
    "    s0=0\n",
    "    s1=0\n",
    "    s2=0\n",
    "    s3=0\n",
    "    for i in range(len(agentes)):\n",
    "        if agentes[i].clase==0:\n",
    "            s0=s0+1\n",
    "        if agentes[i].clase==1:\n",
    "            s1=s1+1\n",
    "        if agentes[i].clase==2:\n",
    "            s2=s2+1\n",
    "        if agentes[i].clase==3:\n",
    "            s3=s3+1\n",
    "    clase0[t]=s0\n",
    "    clase1[t]=s1\n",
    "    clase2[t]=s2\n",
    "    clase3[t]=s3 "
   ]
  },
  {
   "cell_type": "code",
   "execution_count": 20,
   "id": "bff36269",
   "metadata": {},
   "outputs": [],
   "source": [
    "#funcion contar numero de seller broke sale y premium buying\n",
    "def conteo_seller(agentes,num_brokesale,num_premium,t):\n",
    "    nbroke=0\n",
    "    npremium=0\n",
    "    for i in range(len(agentes)):\n",
    "        if agentes[i].status==0:\n",
    "            nbroke=nbroke+1\n",
    "        if agentes[i].status==3:\n",
    "            npremium=npremium+1\n",
    "    num_brokesale[t]=nbroke\n",
    "    num_premium[t]=npremium"
   ]
  },
  {
   "cell_type": "code",
   "execution_count": 21,
   "id": "3f83846f",
   "metadata": {},
   "outputs": [],
   "source": [
    "#funcion para contar numero de empleados por clase\n",
    "def conteo_empleado(agentes,num_alive,num_enough,num_satisfied,num_luxury,t):\n",
    "    nalive=0\n",
    "    nenough=0\n",
    "    nsatisfied=0\n",
    "    nluxury=0\n",
    "    for i in range(len(agentes)):\n",
    "        if (agentes[i].status==2 and agentes[i].clase==0):\n",
    "            nalive+=len(agentes[i].empleados)\n",
    "        if (agentes[i].status==2 and agentes[i].clase==1):\n",
    "            nenough+=len(agentes[i].empleados)\n",
    "        if (agentes[i].status==2 and agentes[i].clase==2):\n",
    "            nsatisfied+=len(agentes[i].empleados)\n",
    "        if (agentes[i].status==2 and agentes[i].clase==3):\n",
    "            nluxury+=len(agentes[i].empleados)\n",
    "    num_alive[t]=nalive\n",
    "    num_enough[t]=nenough\n",
    "    num_satisfied[t]=nsatisfied\n",
    "    num_luxury[t]=nluxury"
   ]
  },
  {
   "cell_type": "code",
   "execution_count": 144,
   "id": "bdf8fc70",
   "metadata": {},
   "outputs": [],
   "source": [
    "#Inicializacion por defecto creamos un vector de objetos y lo llenamos\n",
    "\n",
    "def inicializar(N,n_tsteps,agentes,alive,enough,satisfied,luxury):\n",
    "    #poblacion=[]#array de objetos que tiene a cada persona\n",
    "    #N=1*10**4\n",
    "    #n_tsteps=100\n",
    "    empleados_per=[]\n",
    "    l_production=np.zeros(n_tsteps)\n",
    "    l_workincome=np.zeros(n_tsteps)\n",
    "    l_investincome=np.zeros(n_tsteps)\n",
    "    l_gainedinvest=np.zeros(n_tsteps)\n",
    "    l_payinvest=np.zeros(n_tsteps)\n",
    "    l_income=np.zeros(n_tsteps)\n",
    "    l_wealth=np.zeros(n_tsteps)\n",
    "    l_saving=np.zeros(n_tsteps)\n",
    "    l_consumption=np.zeros(n_tsteps)\n",
    "    l_productivity=np.zeros(n_tsteps)\n",
    "    l_status=np.zeros(n_tsteps)\n",
    "    '''\n",
    "    l_alive=np.zeros(n_tsteps)\n",
    "    l_enough=np.zeros(n_tsteps)\n",
    "    l_satisfied=np.zeros(n_tsteps)\n",
    "    l_luxury=np.zeros(n_tsteps)\n",
    "    n_brokesale=np.zeros(n_tsteps)\n",
    "    n_premium=np.zeros(n_tsteps)\n",
    "    '''\n",
    "    '''\n",
    "    Persona(self,resource,productivity,science,wealth,income,saving,salary,InvestIncome,lifestatus,\n",
    "                    GainedInvest,PayInvest,WorkIncome,empleados,status,indice,production,clase,consumption):\n",
    "    '''   \n",
    "    #para ---t=0-------\n",
    "    for i in range(N):\n",
    "        per=Persona(1,l_productivity,1,l_wealth,l_income,l_saving,0,l_investincome,0,l_gainedinvest\n",
    "                    ,l_payinvest,l_workincome,empleados_per,1,0,l_production,0,l_consumption)\n",
    "        agentes.append(per) #introducimos cada objeto en el array\n",
    "        agentes[i].a_indice(i)#le asignamos su indice a cada uno\n",
    "        agentes[i].initial_productivity(10000,2500,0)#calculamos la productividad para cada uno mean y sd 5000\n",
    "        agentes[i].initial_production(0) #calculamos la produccion segun productivity\n",
    "        agentes[i].initial_wealth(5000,0)#asignamos inicialmente a todos la misma riqueza 5000\n",
    "        agentes[i].initial_saving(5000,0)#el mismo ahorro inicial 5000\n",
    "        #poblacion[i].initial_status(1,0)\n",
    "        #poblacion[i].c_production(1)#calculamos la del año 1\n",
    "        l_workincome=np.zeros(n_tsteps)\n",
    "        l_production=np.zeros(n_tsteps)\n",
    "        l_workincome=np.zeros(n_tsteps)\n",
    "        l_investincome=np.zeros(n_tsteps)\n",
    "        l_gainedinvest=np.zeros(n_tsteps)\n",
    "        l_payinvest=np.zeros(n_tsteps)\n",
    "        l_income=np.zeros(n_tsteps)\n",
    "        l_wealth=np.zeros(n_tsteps)\n",
    "        l_saving=np.zeros(n_tsteps)\n",
    "        l_consumption=np.zeros(n_tsteps)\n",
    "        l_productivity=np.zeros(n_tsteps)\n",
    "        #l_status=np.zeros(n_tsteps)\n",
    "        empleados_per=[]\n",
    "    conteo_clase(poblacion,alive,enough,satisfied,luxury,0)\n",
    "    #conteo_seller(poblacion,n_brokesale,n_premium,0)"
   ]
  },
  {
   "cell_type": "code",
   "execution_count": 23,
   "id": "610b8ab1",
   "metadata": {},
   "outputs": [],
   "source": [
    "#inicializar(100,100,poblacion)"
   ]
  },
  {
   "cell_type": "code",
   "execution_count": 115,
   "id": "46c53ee5",
   "metadata": {},
   "outputs": [],
   "source": [
    "\n",
    "def evolucion(n_tsteps,agentes,conteo_broke,conteo_premium,alive,enough,satisfied,luxury,n_empali,n_empeno,\n",
    "             n_empsat,n_emplux):\n",
    "    #----para t=1 hasta n_timesteps-1-----\n",
    "    #for t in range(1,n_timesteps,1):\n",
    "    #para t=1\n",
    "    #random.seed(0)\n",
    "    lista_clase=[2500,7500,2*10**5,10**6]\n",
    "    for t in range(1,n_tsteps,1):\n",
    "        #---primer paso------(1)\n",
    "        c_productivity(agentes,t)\n",
    "        c_production(agentes,t)\n",
    "        c_workincome(agentes,t)\n",
    "        c_investincome(agentes,t) \n",
    "        c_income(agentes,t)\n",
    "        c_wealth(agentes,t,2)\n",
    "        #---segundo paso-----(2) dist. clase y asignar consumo\n",
    "        dist_clase(lista_clase,agentes,t,conteo_broke)\n",
    "        #check_premium(poblacion,lista_clase,t)\n",
    "        borrar_agente(agentes,lista_clase[0],t)\n",
    "        asignar_consumo(agentes,lista_clase,t)\n",
    "        #ellos van a hacer premium buying despues de hacer broke sale\n",
    "        check_premium(agentes,t,n_brokesale,conteo_premium)\n",
    "        c_production(agentes,t)#calculamos de nuevo production pues cambio la productividad\n",
    "        #----tercer paso------(3)payinvest\n",
    "        pay_invest(agentes,t)\n",
    "        #----cuarto paso-----(4) saving\n",
    "        c_saving(agentes,t)\n",
    "        conteo_clase(agentes,alive,enough,satisfied,luxury,t)\n",
    "        conteo_empleado(agentes,n_empali,n_empeno,n_empsat,n_emplux,t)\n",
    "        #conteo_seller(poblacion,n_brokesale,n_premium,t)\n",
    "    '''\n",
    "    for i in range(len(poblacion)):\n",
    "\n",
    "        #print('workincome'+str(i),poblacion[i].WorkIncome)\n",
    "        #print('investincome'+ str(i),poblacion[i].InvestIncome)\n",
    "        #print('income'+str(i),poblacion[i].income)\n",
    "        print('wealth'+str(i),poblacion[i].wealth)\n",
    "        #print('clase'+str(i),poblacion[i].clase)\n",
    "        print('gainedinvest'+str(i),poblacion[i].GainedInvest)\n",
    "        print('consumo'+str(i),poblacion[i].consumption)\n",
    "        print('payinvest'+str(i),poblacion[i].PayInvest)\n",
    "        print('empleados'+str(i),poblacion[i].empleados)\n",
    "        #print('saving'+str(i),poblacion[i].saving)\n",
    "        print('status'+str(i),poblacion[i].status)\n",
    "        #print('production'+str(i),poblacion[i].production)\n",
    "        print('productivity'+str(i),poblacion[i].productivity)\n",
    "        #print('lifestatus'+str(i),poblacion[i].lifestatus)\n",
    "    '''"
   ]
  },
  {
   "cell_type": "code",
   "execution_count": 145,
   "id": "26e474f8",
   "metadata": {},
   "outputs": [],
   "source": [
    "#parametros iniciales\n",
    "poblacion=[]\n",
    "time_steps=100\n",
    "N=1*10**4\n",
    "nsim=10\n",
    "l_alive=np.zeros(time_steps)\n",
    "l_enough=np.zeros(time_steps)\n",
    "l_satisfied=np.zeros(time_steps)\n",
    "l_luxury=np.zeros(time_steps)\n",
    "n_brokesale=np.zeros(time_steps)\n",
    "n_premium=np.zeros(time_steps)\n",
    "emp_alive=np.zeros(time_steps)\n",
    "emp_enough=np.zeros(time_steps)\n",
    "emp_satisfied=np.zeros(time_steps)\n",
    "emp_luxury=np.zeros(time_steps)\n",
    "#productividad cuatro años\n",
    "pro_0=[]\n",
    "pro_2=[]\n",
    "pro_10=[]\n",
    "pro_99=[]\n",
    "pro_y0=np.zeros([nsim,N])\n",
    "pro_y2=np.zeros([nsim,N])\n",
    "pro_y10=np.zeros([nsim,N])\n",
    "pro_y99=np.zeros([nsim,N])\n",
    "#productividad por clase ultimo año\n",
    "ali=[]\n",
    "eno=[]\n",
    "sat=[]\n",
    "lux=[]\n",
    "pro_ali=[]\n",
    "pro_eno=[]\n",
    "pro_sat=[]\n",
    "pro_lux=[]\n",
    "#sacar ingreso promedio para cuatro años diferentes\n",
    "ing1=[]\n",
    "ing4=[]\n",
    "ing10=[]\n",
    "ing99=[]\n",
    "ing_y1=np.zeros([nsim,N])\n",
    "ing_y4=np.zeros([nsim,N])\n",
    "ing_y10=np.zeros([nsim,N])\n",
    "ing_y99=np.zeros([nsim,N])\n",
    "#promedio para la diferenciacion de clases\n",
    "m_alive=np.zeros([nsim,time_steps])\n",
    "m_enough=np.zeros([nsim,time_steps])\n",
    "m_satisfied=np.zeros([nsim,time_steps])\n",
    "m_luxury=np.zeros([nsim,time_steps])\n",
    "#promedio numero con broke sale y premium buying\n",
    "m_broke=np.zeros([nsim,time_steps])\n",
    "m_premium=np.zeros([nsim,time_steps])\n",
    "#promedio numero de empleados por clase\n",
    "m_empalive=np.zeros([nsim,time_steps])\n",
    "m_empenough=np.zeros([nsim,time_steps])\n",
    "m_empsatisfied=np.zeros([nsim,time_steps])\n",
    "m_empluxury=np.zeros([nsim,time_steps])\n",
    "\n",
    "#empezamos la simulacion\n",
    "\n",
    "for n in range(nsim):\n",
    "    inicializar(N,time_steps,poblacion,l_alive,l_enough,l_satisfied,l_luxury)\n",
    "    evolucion(time_steps,poblacion,n_brokesale,n_premium,l_alive,l_enough,l_satisfied,l_luxury,emp_alive,\n",
    "             emp_enough,emp_satisfied,emp_luxury)\n",
    "    for l in range(len(poblacion)):\n",
    "        #productividad años\n",
    "        pro_0.append(poblacion[l].productivity[0])\n",
    "        pro_2.append(poblacion[l].productivity[2])\n",
    "        pro_10.append(poblacion[l].productivity[10])\n",
    "        pro_99.append(poblacion[l].productivity[99])\n",
    "        #productividad clase\n",
    "        if poblacion[l].clase==0:\n",
    "            ali.append(poblacion[l].productivity[time_steps-1])\n",
    "        if poblacion[l].clase==1:\n",
    "            eno.append(poblacion[l].productivity[time_steps-1])\n",
    "        if poblacion[l].clase==2:\n",
    "            sat.append(poblacion[l].productivity[time_steps-1])\n",
    "        if poblacion[l].clase==3:\n",
    "            lux.append(poblacion[l].productivity[time_steps-1])\n",
    "        #ingreso cuatro años\n",
    "        ing1.append(poblacion[l].income[1])\n",
    "        ing4.append(poblacion[l].income[4])\n",
    "        ing10.append(poblacion[l].income[10])\n",
    "        ing99.append(poblacion[l].income[99])\n",
    "    #llenar listas productividad\n",
    "    pro_y0[n]=np.sort(pro_0)\n",
    "    pro_y2[n]=np.sort(pro_2)\n",
    "    pro_y10[n]=np.sort(pro_10)\n",
    "    pro_y99[n]=np.sort(pro_99)\n",
    "    #llenar listas productividad por clase\n",
    "    pro_alisort=np.sort(ali)\n",
    "    pro_enosort=np.sort(eno)\n",
    "    pro_satsort=np.sort(sat)\n",
    "    pro_luxsort=np.sort(lux)\n",
    "    pro_ali.append(pro_alisort)\n",
    "    pro_eno.append(pro_enosort)\n",
    "    pro_sat.append(pro_satsort)\n",
    "    pro_lux.append(pro_luxsort)\n",
    "    #llenar listas ingreso\n",
    "    ing_y1[n]=np.sort(ing1)\n",
    "    ing_y4[n]=np.sort(ing4)\n",
    "    ing_y10[n]=np.sort(ing10)\n",
    "    ing_y99[n]=np.sort(ing99)\n",
    "    #llenar matriz de numero de personas por clase en cada t\n",
    "    m_alive[n]=l_alive\n",
    "    m_enough[n]=l_enough\n",
    "    m_satisfied[n]=l_satisfied\n",
    "    m_luxury[n]=l_luxury\n",
    "    #llenar matriz de num de personas con broke sale y premium\n",
    "    m_broke[n]=n_brokesale\n",
    "    m_premium[n]=n_premium\n",
    "    #llenar matriz de num de empleados por clase\n",
    "    m_empalive[n]=emp_alive\n",
    "    m_empenough[n]=emp_enough\n",
    "    m_empsatisfied[n]=emp_satisfied\n",
    "    m_empluxury[n]=emp_luxury\n",
    "    \n",
    "    \n",
    "    #vaciar todo para nueva simulacion\n",
    "    pro_0=[]\n",
    "    pro_2=[]\n",
    "    pro_10=[]\n",
    "    pro_99=[]\n",
    "    poblacion=[]\n",
    "    ali=[]\n",
    "    eno=[]\n",
    "    sat=[]\n",
    "    lux=[]\n",
    "    ing1=[]\n",
    "    ing4=[]\n",
    "    ing10=[]\n",
    "    ing99=[]\n",
    "    l_alive=np.zeros(time_steps)\n",
    "    l_enough=np.zeros(time_steps)\n",
    "    l_satisfied=np.zeros(time_steps)\n",
    "    l_luxury=np.zeros(time_steps)\n",
    "    n_brokesale=np.zeros(time_steps)\n",
    "    n_premium=np.zeros(time_steps)\n",
    "    emp_alive=np.zeros(time_steps)\n",
    "    emp_enough=np.zeros(time_steps)\n",
    "    emp_satisfied=np.zeros(time_steps)\n",
    "    emp_luxury=np.zeros(time_steps)\n",
    "    "
   ]
  },
  {
   "cell_type": "code",
   "execution_count": null,
   "id": "cd53ac7f",
   "metadata": {},
   "outputs": [],
   "source": [
    "''' \n",
    "for i in range(len(poblacion)):\n",
    "    #print('workincome'+str(i),poblacion[i].WorkIncome)\n",
    "    #print('investincome'+ str(i),poblacion[i].InvestIncome)\n",
    "    #print('income'+str(i),poblacion[i].income)\n",
    "    #print('wealth'+str(i),poblacion[i].wealth)\n",
    "    #print('clase'+str(i),poblacion[i].clase)\n",
    "    #print('gainedinvest'+str(i),poblacion[i].GainedInvest)\n",
    "    #print('consumo'+str(i),poblacion[i].consumption)\n",
    "    #print('payinvest'+str(i),poblacion[i].PayInvest)\n",
    "    #print('empleados'+str(i),poblacion[i].empleados)\n",
    "    print('saving'+str(i),poblacion[i].saving)\n",
    "    #print('status'+str(i),poblacion[i].status)\n",
    "    #print('production'+str(i),poblacion[i].production)\n",
    "    #print('productivity'+str(i),poblacion[i].productivity)\n",
    "    #print('lifestatus'+str(i),poblacion[i].lifestatus)\n",
    "'''"
   ]
  },
  {
   "cell_type": "code",
   "execution_count": 146,
   "id": "bf0329f5",
   "metadata": {},
   "outputs": [],
   "source": [
    "#sacar promedios de las simulaciones\n",
    "#productividad\n",
    "pro_0mean=np.mean(pro_y0,axis=0)\n",
    "pro_2mean=np.mean(pro_y2,axis=0)\n",
    "pro_10mean=np.mean(pro_y10,axis=0)\n",
    "pro_99mean=np.mean(pro_y99,axis=0)\n",
    "#ingreso\n",
    "ing_1mean=np.mean(ing_y1,axis=0)\n",
    "ing_4mean=np.mean(ing_y4,axis=0)\n",
    "ing_10mean=np.mean(ing_y10,axis=0)\n",
    "ing_99mean=np.mean(ing_y99,axis=0)\n",
    "#numero de personas por clase para cada t\n",
    "l_alivemean=np.mean(m_alive,axis=0)\n",
    "l_enoughmean=np.mean(m_enough,axis=0)\n",
    "l_satisfiedmean=np.mean(m_satisfied,axis=0)\n",
    "l_luxurymean=np.mean(m_luxury,axis=0)\n",
    "#numero de personas que hacen broke sale y premium buying\n",
    "n_brokemean=np.mean(m_broke,axis=0)\n",
    "n_premiumean=np.mean(m_premium,axis=0)\n",
    "#numero de empleados contratados por clase\n",
    "emp_alivemean=np.mean(m_empalive,axis=0)\n",
    "emp_enoughmean=np.mean(m_empenough,axis=0)\n",
    "emp_satisfiedmean=np.mean(m_empsatisfied,axis=0)\n",
    "emp_luxurymean=np.mean(m_empluxury,axis=0)"
   ]
  },
  {
   "cell_type": "code",
   "execution_count": 147,
   "id": "ed413219",
   "metadata": {},
   "outputs": [
    {
     "ename": "AxisError",
     "evalue": "axis 1 is out of bounds for array of dimension 1",
     "output_type": "error",
     "traceback": [
      "\u001b[0;31m---------------------------------------------------------------------------\u001b[0m",
      "\u001b[0;31mAxisError\u001b[0m                                 Traceback (most recent call last)",
      "\u001b[0;32m<ipython-input-147-b8799b8f07ff>\u001b[0m in \u001b[0;36m<module>\u001b[0;34m\u001b[0m\n\u001b[1;32m      2\u001b[0m \u001b[0mpro_alimean\u001b[0m\u001b[0;34m=\u001b[0m\u001b[0mnp\u001b[0m\u001b[0;34m.\u001b[0m\u001b[0mnanmean\u001b[0m\u001b[0;34m(\u001b[0m\u001b[0mnp\u001b[0m\u001b[0;34m.\u001b[0m\u001b[0marray\u001b[0m\u001b[0;34m(\u001b[0m\u001b[0mlist\u001b[0m\u001b[0;34m(\u001b[0m\u001b[0mzip_longest\u001b[0m\u001b[0;34m(\u001b[0m\u001b[0;34m*\u001b[0m\u001b[0mpro_ali\u001b[0m\u001b[0;34m)\u001b[0m\u001b[0;34m)\u001b[0m\u001b[0;34m,\u001b[0m\u001b[0mdtype\u001b[0m\u001b[0;34m=\u001b[0m\u001b[0mfloat\u001b[0m\u001b[0;34m)\u001b[0m\u001b[0;34m,\u001b[0m\u001b[0maxis\u001b[0m\u001b[0;34m=\u001b[0m\u001b[0;36m1\u001b[0m\u001b[0;34m)\u001b[0m\u001b[0;34m\u001b[0m\u001b[0;34m\u001b[0m\u001b[0m\n\u001b[1;32m      3\u001b[0m \u001b[0mpro_enomean\u001b[0m\u001b[0;34m=\u001b[0m\u001b[0mnp\u001b[0m\u001b[0;34m.\u001b[0m\u001b[0mnanmean\u001b[0m\u001b[0;34m(\u001b[0m\u001b[0mnp\u001b[0m\u001b[0;34m.\u001b[0m\u001b[0marray\u001b[0m\u001b[0;34m(\u001b[0m\u001b[0mlist\u001b[0m\u001b[0;34m(\u001b[0m\u001b[0mzip_longest\u001b[0m\u001b[0;34m(\u001b[0m\u001b[0;34m*\u001b[0m\u001b[0mpro_eno\u001b[0m\u001b[0;34m)\u001b[0m\u001b[0;34m)\u001b[0m\u001b[0;34m,\u001b[0m\u001b[0mdtype\u001b[0m\u001b[0;34m=\u001b[0m\u001b[0mfloat\u001b[0m\u001b[0;34m)\u001b[0m\u001b[0;34m,\u001b[0m\u001b[0maxis\u001b[0m\u001b[0;34m=\u001b[0m\u001b[0;36m1\u001b[0m\u001b[0;34m)\u001b[0m\u001b[0;34m\u001b[0m\u001b[0;34m\u001b[0m\u001b[0m\n\u001b[0;32m----> 4\u001b[0;31m \u001b[0mpro_satmean\u001b[0m\u001b[0;34m=\u001b[0m\u001b[0mnp\u001b[0m\u001b[0;34m.\u001b[0m\u001b[0mnanmean\u001b[0m\u001b[0;34m(\u001b[0m\u001b[0mnp\u001b[0m\u001b[0;34m.\u001b[0m\u001b[0marray\u001b[0m\u001b[0;34m(\u001b[0m\u001b[0mlist\u001b[0m\u001b[0;34m(\u001b[0m\u001b[0mzip_longest\u001b[0m\u001b[0;34m(\u001b[0m\u001b[0;34m*\u001b[0m\u001b[0mpro_sat\u001b[0m\u001b[0;34m)\u001b[0m\u001b[0;34m)\u001b[0m\u001b[0;34m,\u001b[0m\u001b[0mdtype\u001b[0m\u001b[0;34m=\u001b[0m\u001b[0mfloat\u001b[0m\u001b[0;34m)\u001b[0m\u001b[0;34m,\u001b[0m\u001b[0maxis\u001b[0m\u001b[0;34m=\u001b[0m\u001b[0;36m1\u001b[0m\u001b[0;34m)\u001b[0m\u001b[0;34m\u001b[0m\u001b[0;34m\u001b[0m\u001b[0m\n\u001b[0m\u001b[1;32m      5\u001b[0m \u001b[0mpro_luxmean\u001b[0m\u001b[0;34m=\u001b[0m\u001b[0mnp\u001b[0m\u001b[0;34m.\u001b[0m\u001b[0mnanmean\u001b[0m\u001b[0;34m(\u001b[0m\u001b[0mnp\u001b[0m\u001b[0;34m.\u001b[0m\u001b[0marray\u001b[0m\u001b[0;34m(\u001b[0m\u001b[0mlist\u001b[0m\u001b[0;34m(\u001b[0m\u001b[0mzip_longest\u001b[0m\u001b[0;34m(\u001b[0m\u001b[0;34m*\u001b[0m\u001b[0mpro_lux\u001b[0m\u001b[0;34m)\u001b[0m\u001b[0;34m)\u001b[0m\u001b[0;34m,\u001b[0m\u001b[0mdtype\u001b[0m\u001b[0;34m=\u001b[0m\u001b[0mfloat\u001b[0m\u001b[0;34m)\u001b[0m\u001b[0;34m,\u001b[0m\u001b[0maxis\u001b[0m\u001b[0;34m=\u001b[0m\u001b[0;36m1\u001b[0m\u001b[0;34m)\u001b[0m\u001b[0;34m\u001b[0m\u001b[0;34m\u001b[0m\u001b[0m\n",
      "\u001b[0;32m<__array_function__ internals>\u001b[0m in \u001b[0;36mnanmean\u001b[0;34m(*args, **kwargs)\u001b[0m\n",
      "\u001b[0;32m~/anaconda3/lib/python3.8/site-packages/numpy/lib/nanfunctions.py\u001b[0m in \u001b[0;36mnanmean\u001b[0;34m(a, axis, dtype, out, keepdims)\u001b[0m\n\u001b[1;32m    946\u001b[0m         \u001b[0;32mraise\u001b[0m \u001b[0mTypeError\u001b[0m\u001b[0;34m(\u001b[0m\u001b[0;34m\"If a is inexact, then out must be inexact\"\u001b[0m\u001b[0;34m)\u001b[0m\u001b[0;34m\u001b[0m\u001b[0;34m\u001b[0m\u001b[0m\n\u001b[1;32m    947\u001b[0m \u001b[0;34m\u001b[0m\u001b[0m\n\u001b[0;32m--> 948\u001b[0;31m     \u001b[0mcnt\u001b[0m \u001b[0;34m=\u001b[0m \u001b[0mnp\u001b[0m\u001b[0;34m.\u001b[0m\u001b[0msum\u001b[0m\u001b[0;34m(\u001b[0m\u001b[0;34m~\u001b[0m\u001b[0mmask\u001b[0m\u001b[0;34m,\u001b[0m \u001b[0maxis\u001b[0m\u001b[0;34m=\u001b[0m\u001b[0maxis\u001b[0m\u001b[0;34m,\u001b[0m \u001b[0mdtype\u001b[0m\u001b[0;34m=\u001b[0m\u001b[0mnp\u001b[0m\u001b[0;34m.\u001b[0m\u001b[0mintp\u001b[0m\u001b[0;34m,\u001b[0m \u001b[0mkeepdims\u001b[0m\u001b[0;34m=\u001b[0m\u001b[0mkeepdims\u001b[0m\u001b[0;34m)\u001b[0m\u001b[0;34m\u001b[0m\u001b[0;34m\u001b[0m\u001b[0m\n\u001b[0m\u001b[1;32m    949\u001b[0m     \u001b[0mtot\u001b[0m \u001b[0;34m=\u001b[0m \u001b[0mnp\u001b[0m\u001b[0;34m.\u001b[0m\u001b[0msum\u001b[0m\u001b[0;34m(\u001b[0m\u001b[0marr\u001b[0m\u001b[0;34m,\u001b[0m \u001b[0maxis\u001b[0m\u001b[0;34m=\u001b[0m\u001b[0maxis\u001b[0m\u001b[0;34m,\u001b[0m \u001b[0mdtype\u001b[0m\u001b[0;34m=\u001b[0m\u001b[0mdtype\u001b[0m\u001b[0;34m,\u001b[0m \u001b[0mout\u001b[0m\u001b[0;34m=\u001b[0m\u001b[0mout\u001b[0m\u001b[0;34m,\u001b[0m \u001b[0mkeepdims\u001b[0m\u001b[0;34m=\u001b[0m\u001b[0mkeepdims\u001b[0m\u001b[0;34m)\u001b[0m\u001b[0;34m\u001b[0m\u001b[0;34m\u001b[0m\u001b[0m\n\u001b[1;32m    950\u001b[0m     \u001b[0mavg\u001b[0m \u001b[0;34m=\u001b[0m \u001b[0m_divide_by_count\u001b[0m\u001b[0;34m(\u001b[0m\u001b[0mtot\u001b[0m\u001b[0;34m,\u001b[0m \u001b[0mcnt\u001b[0m\u001b[0;34m,\u001b[0m \u001b[0mout\u001b[0m\u001b[0;34m=\u001b[0m\u001b[0mout\u001b[0m\u001b[0;34m)\u001b[0m\u001b[0;34m\u001b[0m\u001b[0;34m\u001b[0m\u001b[0m\n",
      "\u001b[0;32m<__array_function__ internals>\u001b[0m in \u001b[0;36msum\u001b[0;34m(*args, **kwargs)\u001b[0m\n",
      "\u001b[0;32m~/anaconda3/lib/python3.8/site-packages/numpy/core/fromnumeric.py\u001b[0m in \u001b[0;36msum\u001b[0;34m(a, axis, dtype, out, keepdims, initial, where)\u001b[0m\n\u001b[1;32m   2245\u001b[0m         \u001b[0;32mreturn\u001b[0m \u001b[0mres\u001b[0m\u001b[0;34m\u001b[0m\u001b[0;34m\u001b[0m\u001b[0m\n\u001b[1;32m   2246\u001b[0m \u001b[0;34m\u001b[0m\u001b[0m\n\u001b[0;32m-> 2247\u001b[0;31m     return _wrapreduction(a, np.add, 'sum', axis, dtype, out, keepdims=keepdims,\n\u001b[0m\u001b[1;32m   2248\u001b[0m                           initial=initial, where=where)\n\u001b[1;32m   2249\u001b[0m \u001b[0;34m\u001b[0m\u001b[0m\n",
      "\u001b[0;32m~/anaconda3/lib/python3.8/site-packages/numpy/core/fromnumeric.py\u001b[0m in \u001b[0;36m_wrapreduction\u001b[0;34m(obj, ufunc, method, axis, dtype, out, **kwargs)\u001b[0m\n\u001b[1;32m     85\u001b[0m                 \u001b[0;32mreturn\u001b[0m \u001b[0mreduction\u001b[0m\u001b[0;34m(\u001b[0m\u001b[0maxis\u001b[0m\u001b[0;34m=\u001b[0m\u001b[0maxis\u001b[0m\u001b[0;34m,\u001b[0m \u001b[0mout\u001b[0m\u001b[0;34m=\u001b[0m\u001b[0mout\u001b[0m\u001b[0;34m,\u001b[0m \u001b[0;34m**\u001b[0m\u001b[0mpasskwargs\u001b[0m\u001b[0;34m)\u001b[0m\u001b[0;34m\u001b[0m\u001b[0;34m\u001b[0m\u001b[0m\n\u001b[1;32m     86\u001b[0m \u001b[0;34m\u001b[0m\u001b[0m\n\u001b[0;32m---> 87\u001b[0;31m     \u001b[0;32mreturn\u001b[0m \u001b[0mufunc\u001b[0m\u001b[0;34m.\u001b[0m\u001b[0mreduce\u001b[0m\u001b[0;34m(\u001b[0m\u001b[0mobj\u001b[0m\u001b[0;34m,\u001b[0m \u001b[0maxis\u001b[0m\u001b[0;34m,\u001b[0m \u001b[0mdtype\u001b[0m\u001b[0;34m,\u001b[0m \u001b[0mout\u001b[0m\u001b[0;34m,\u001b[0m \u001b[0;34m**\u001b[0m\u001b[0mpasskwargs\u001b[0m\u001b[0;34m)\u001b[0m\u001b[0;34m\u001b[0m\u001b[0;34m\u001b[0m\u001b[0m\n\u001b[0m\u001b[1;32m     88\u001b[0m \u001b[0;34m\u001b[0m\u001b[0m\n\u001b[1;32m     89\u001b[0m \u001b[0;34m\u001b[0m\u001b[0m\n",
      "\u001b[0;31mAxisError\u001b[0m: axis 1 is out of bounds for array of dimension 1"
     ]
    }
   ],
   "source": [
    "#calcular promedio productividad por clase\n",
    "pro_alimean=np.nanmean(np.array(list(zip_longest(*pro_ali)),dtype=float),axis=1)\n",
    "pro_enomean=np.nanmean(np.array(list(zip_longest(*pro_eno)),dtype=float),axis=1)\n",
    "pro_satmean=np.nanmean(np.array(list(zip_longest(*pro_sat)),dtype=float),axis=1)\n",
    "pro_luxmean=np.nanmean(np.array(list(zip_longest(*pro_lux)),dtype=float),axis=1)"
   ]
  },
  {
   "cell_type": "code",
   "execution_count": null,
   "id": "cdc79555",
   "metadata": {},
   "outputs": [],
   "source": [
    "#print(poblacion[50].WorkIncome[5])\n",
    "#print(n_brokesale)\n",
    "#print(n_premium)\n",
    "print(poblacion[0].status)\n",
    "print(poblacion[85].income[1])"
   ]
  },
  {
   "cell_type": "code",
   "execution_count": 148,
   "id": "97a79539",
   "metadata": {},
   "outputs": [
    {
     "name": "stdout",
     "output_type": "stream",
     "text": [
      "[ 738.6 9261.4    0.     0. ]\n"
     ]
    }
   ],
   "source": [
    "#sacamos poblacion de equlibrio para cada clase\n",
    "num_clases=4\n",
    "pob_eq=np.zeros(4)\n",
    "pob_eq[0]=l_alivemean[99] #num de personas en clase alive en el ultimo año\n",
    "pob_eq[1]=l_enoughmean[99]\n",
    "pob_eq[2]=l_satisfiedmean[99]\n",
    "pob_eq[3]=l_luxurymean[99]\n",
    "print(pob_eq)"
   ]
  },
  {
   "cell_type": "markdown",
   "id": "9f48ddfb",
   "metadata": {},
   "source": [
    "# Calculo de la movilidad "
   ]
  },
  {
   "cell_type": "code",
   "execution_count": 149,
   "id": "a1653b56",
   "metadata": {},
   "outputs": [],
   "source": [
    "#1. calculamos la riqueza promedio de cada clase\n",
    "\n",
    "def movilidad(n_clases,poblacion_eq):\n",
    "    l_clase=[2500,7500,2*10**5,10**6]\n",
    "    lista_claseprom=np.zeros(n_clases)\n",
    "    for m in range(n_clases):\n",
    "        if (m!=n_clases-1):\n",
    "            lista_claseprom[m]=np.divide((l_clase[m+1]+l_clase[m]),2)\n",
    "        else:\n",
    "            lista_claseprom[m]=np.divide((l_clase[m]+1*10**10),2)\n",
    "    sumaki=np.zeros(n_clases-1)\n",
    "    sumakc=np.zeros(n_clases-1)\n",
    "    sumakm=np.zeros(n_clases-1)\n",
    "    probi=np.zeros(n_clases-1)\n",
    "    probclase=np.zeros(n_clases-1)\n",
    "    probm=np.zeros(n_clases-1)\n",
    "    for i in range(n_clases-1):\n",
    "        for k in range(n_clases):\n",
    "            sumaki[i]+=min(lista_claseprom[k],lista_claseprom[i])*poblacion_eq[k]*2*l_clase[k]\n",
    "            sumakc[i]+=min(lista_claseprom[k],lista_claseprom[i])*poblacion_eq[k]*2*l_clase[k]*poblacion_eq[i]\n",
    "            \n",
    "        probi[i]=np.divide(sumaki[i],(l_clase[i+1]-l_clase[i])*4*lista_claseprom[3])\n",
    "        probclase[i]=np.divide(sumakc[i],(l_clase[i+1]-l_clase[i])*4*lista_claseprom[3]*(poblacion_eq[0]-poblacion_eq[3]))\n",
    "        probm[i]=np.divide(sumakc[i],(l_clase[i+1]-l_clase[i])*4*lista_claseprom[3])\n",
    "    #print(probi)\n",
    "    #print(probclase)\n",
    "    #print(probm)\n",
    "    mob=0\n",
    "    sumamob=np.sum(probm)\n",
    "    mob=np.divide(sumamob,(poblacion_eq[0]-poblacion_eq[3]))\n",
    "    #print(mob)\n",
    "    return probi, probclase, mob"
   ]
  },
  {
   "cell_type": "code",
   "execution_count": 150,
   "id": "db8d3364",
   "metadata": {},
   "outputs": [
    {
     "name": "stdout",
     "output_type": "stream",
     "text": [
      "movilidad 0.054127537115732545\n"
     ]
    }
   ],
   "source": [
    "prob_ind,prob_clase,movility=movilidad(4,pob_eq)\n",
    "print('movilidad', movility)"
   ]
  },
  {
   "cell_type": "code",
   "execution_count": 154,
   "id": "3d149961",
   "metadata": {},
   "outputs": [
    {
     "data": {
      "image/png": "[encoded data removed]",
      "text/plain": [
       "<Figure size 576x432 with 1 Axes>"
      ]
     },
     "metadata": {
      "needs_background": "light"
     },
     "output_type": "display_data"
    }
   ],
   "source": [
    "#probabilidad individual\n",
    "fig = plt.figure(figsize=(8,6))\n",
    "x=range(0,num_clases-1,1)\n",
    "plt.plot(x,prob_ind,marker='o',linestyle='--',alpha=0.8,color='m')\n",
    "plt.xlabel('i Numero de clase')\n",
    "plt.ylabel('Probabilidad individual de avanzar de clase')\n",
    "#plt.title('Distribucion de productividad para cuatro años diferentes')\n",
    "#fig.savefig('prob_ind4.png')"
   ]
  },
  {
   "cell_type": "code",
   "execution_count": 155,
   "id": "8993ccec",
   "metadata": {},
   "outputs": [
    {
     "data": {
      "image/png": "[encoded data removed]",
      "text/plain": [
       "<Figure size 576x432 with 1 Axes>"
      ]
     },
     "metadata": {
      "needs_background": "light"
     },
     "output_type": "display_data"
    }
   ],
   "source": [
    "#probabilidad de clase\n",
    "fig = plt.figure(figsize=(8,6))\n",
    "x=range(0,num_clases-1,1)\n",
    "plt.plot(x,prob_clase,marker='o',linestyle='--',alpha=0.8,color='forestgreen')\n",
    "plt.xlabel('i Numero de clase')\n",
    "plt.ylabel('Probabilidad de clase')\n",
    "#plt.title('Distribucion de productividad para cuatro años diferentes')\n",
    "#fig.savefig('prob_clase4.png')"
   ]
  },
  {
   "cell_type": "markdown",
   "id": "ef9b7c49",
   "metadata": {},
   "source": [
    "# Calculo del Gini"
   ]
  },
  {
   "cell_type": "code",
   "execution_count": 96,
   "id": "6696a63f",
   "metadata": {},
   "outputs": [],
   "source": [
    "#funcion para calcular el gini\n",
    "def gini(df0):\n",
    "    N=df0.size\n",
    "    Itotal=np.sum(df0)\n",
    "    #creamos arrays para calcular poblacion e ingreso acumulado\n",
    "    Xing=np.zeros(N) #ingreso de cada individuo/ingreso total\n",
    "    Xcum=np.zeros(N) #ingreso acumulado\n",
    "    Xsum=np.zeros(N) #Xk+Xk-1\n",
    "    Ypob=np.zeros(N) #1/pobtotal\n",
    "    Ycum=np.zeros(N) #poblacion agregada\n",
    "    Ydiff=np.zeros(N) #Yk-Yk-1\n",
    "    XsumYdiff=np.zeros(N) #(Xk+Xk-1)(Yk-Yk-1)\n",
    "    \n",
    "    for i in range(N):\n",
    "        #llenamos array Xing\n",
    "        Xing[i]=1.0*df0[i]/Itotal\n",
    "        #llenamos array Xcum\n",
    "        if i==0:\n",
    "            Xcum[i]=Xing[i]\n",
    "        else:\n",
    "            Xcum[i]=Xing[i]+Xcum[i-1]\n",
    "        #llenamos array Xsum\n",
    "        if i==0:\n",
    "            Xsum[i]=Xcum[i]\n",
    "        else:\n",
    "            Xsum[i]=Xcum[i]+Xcum[i-1]\n",
    "        #hacemos lo mismo para Y\n",
    "        Ypob[i]=1.0/N\n",
    "        if i==0:\n",
    "            Ycum[i]=Ypob[i]\n",
    "        else:\n",
    "            Ycum[i]=Ypob[i]+Ycum[i-1]\n",
    "        if i==0:\n",
    "            Ydiff[i]=Ycum[i]\n",
    "        else:\n",
    "            Ydiff[i]=Ycum[i]-Ycum[i-1]\n",
    "        #llenar array de multiplicacion (Xk+Xk+1)(Yk-Yk-1)\n",
    "        XsumYdiff[i]=Xsum[i]*Ydiff[i]\n",
    "    #una vez todo este lleno calculamos la suma\n",
    "    sumaXsumYdiff=np.sum(XsumYdiff)\n",
    "    Gini=1.0-sumaXsumYdiff\n",
    "    return Gini"
   ]
  },
  {
   "cell_type": "code",
   "execution_count": 126,
   "id": "eb4ecb51",
   "metadata": {},
   "outputs": [
    {
     "data": {
      "text/plain": [
       "True"
      ]
     },
     "execution_count": 126,
     "metadata": {},
     "output_type": "execute_result"
    }
   ],
   "source": [
    "#primero verificamos si esta ordenado el ingreso\n",
    "np.all(np.diff(ing_99mean) >= 0)"
   ]
  },
  {
   "cell_type": "code",
   "execution_count": 153,
   "id": "798e0c84",
   "metadata": {},
   "outputs": [
    {
     "name": "stdout",
     "output_type": "stream",
     "text": [
      "El índice de Gini: \n",
      "0.14090908866512097\n"
     ]
    }
   ],
   "source": [
    "l1gini = gini(ing_99mean)\n",
    "\n",
    "print('El índice de Gini: ')\n",
    "print(l1gini)"
   ]
  },
  {
   "cell_type": "markdown",
   "id": "38809b01",
   "metadata": {},
   "source": [
    "# Graficas"
   ]
  },
  {
   "cell_type": "code",
   "execution_count": 157,
   "id": "f4d38b21",
   "metadata": {},
   "outputs": [
    {
     "data": {
      "image/png": "[encoded data removed]",
      "text/plain": [
       "<Figure size 576x432 with 1 Axes>"
      ]
     },
     "metadata": {
      "needs_background": "light"
     },
     "output_type": "display_data"
    }
   ],
   "source": [
    "fig = plt.figure(figsize=(8,6))\n",
    "intervalos=range(1,20000,800)\n",
    "plt.hist([pro_0mean,pro_2mean,pro_10mean,pro_99mean],bins=intervalos,color=[\"skyblue\",\"green\",\"orange\",\"purple\"],\n",
    "         rwidth=0.85,lw=1,edgecolor='black',alpha=0.6,label=['year 0','year2','year10','year99'])\n",
    "#plt.hist([pro_y10],bins=intervalos,color=\"green\",rwidth=0.85,lw=1,edgecolor='black',alpha=0.5,label='year 2')\n",
    "#plt.hist(pro_y10,bins=intervalos,color=\"black\",rwidth=0.85,lw=1,edgecolor='black',alpha=0.5,label='year 10')\n",
    "#plt.hist(pro_y29,bins=intervalos,color=\"purple\",rwidth=0.85,lw=1,edgecolor='black',alpha=0.5,label='year 29')\n",
    "plt.legend(loc='upper right')\n",
    "plt.xlabel('Productividad')\n",
    "plt.ylabel('Distribucion de individuos')\n",
    "plt.title('Distribucion de productividad para cuatro años diferentes')\n",
    "#fig.savefig('productividad_difanos4.png')"
   ]
  },
  {
   "cell_type": "code",
   "execution_count": 159,
   "id": "550d14b6",
   "metadata": {},
   "outputs": [
    {
     "data": {
      "image/png": "[encoded data removed]",
      "text/plain": [
       "<Figure size 576x432 with 1 Axes>"
      ]
     },
     "metadata": {
      "needs_background": "light"
     },
     "output_type": "display_data"
    }
   ],
   "source": [
    "#grafica distribucion de productividad por clase\n",
    "fig = plt.figure(figsize=(8,6))\n",
    "intervalos=range(1,20000,800)\n",
    "plt.hist([pro_alimean,pro_enomean,pro_satmean,pro_luxmean],bins=intervalos,color=[\"blue\",\"lime\",\"m\",\"yellow\"],\n",
    "         rwidth=0.85,lw=1,edgecolor='black',alpha=0.6,label=['Alive','Enough','Satisfied','Luxury'])\n",
    "#plt.hist([pro_y10],bins=intervalos,color=\"green\",rwidth=0.85,lw=1,edgecolor='black',alpha=0.5,label='year 2')\n",
    "#plt.hist(pro_y10,bins=intervalos,color=\"black\",rwidth=0.85,lw=1,edgecolor='black',alpha=0.5,label='year 10')\n",
    "#plt.hist(pro_y29,bins=intervalos,color=\"purple\",rwidth=0.85,lw=1,edgecolor='black',alpha=0.5,label='year 29')\n",
    "plt.legend(loc='upper right')\n",
    "plt.xlabel('Productividad')\n",
    "plt.ylabel('Distribucion de individuos')\n",
    "plt.title('Distribucion de productividad por clase para el ultimo año')\n",
    "#fig.savefig('productividad_claselinear4.png')"
   ]
  },
  {
   "cell_type": "code",
   "execution_count": 161,
   "id": "7dcdc7cd",
   "metadata": {
    "scrolled": true
   },
   "outputs": [
    {
     "data": {
      "image/png": "[encoded data removed]",
      "text/plain": [
       "<Figure size 576x432 with 1 Axes>"
      ]
     },
     "metadata": {
      "needs_background": "light"
     },
     "output_type": "display_data"
    }
   ],
   "source": [
    "#grafica distribucion de productividad por clase con escala logaritmica\n",
    "fig = plt.figure(figsize=(8,6))\n",
    "intervalos=range(1,20000,800)\n",
    "plt.hist([pro_alimean,pro_enomean,pro_satmean,pro_luxmean],bins=intervalos,color=[\"blue\",\"lime\",\"m\",\"yellow\"],\n",
    "         rwidth=0.85,lw=1,edgecolor='black',alpha=0.6,label=['Alive','Enough','Satisfied','Luxury'])\n",
    "#plt.hist([pro_y10],bins=intervalos,color=\"green\",rwidth=0.85,lw=1,edgecolor='black',alpha=0.5,label='year 2')\n",
    "#plt.hist(pro_y10,bins=intervalos,color=\"black\",rwidth=0.85,lw=1,edgecolor='black',alpha=0.5,label='year 10')\n",
    "#plt.hist(pro_y29,bins=intervalos,color=\"purple\",rwidth=0.85,lw=1,edgecolor='black',alpha=0.5,label='year 29')\n",
    "plt.yscale('log')\n",
    "plt.legend(loc='upper right')\n",
    "plt.xlabel('Productividad')\n",
    "plt.ylabel('Distribucion de individuos')\n",
    "plt.title('Distribucion de productividad por clase para el ultimo año')\n",
    "#fig.savefig('productividad_claselog4.png')"
   ]
  },
  {
   "cell_type": "code",
   "execution_count": 163,
   "id": "ee25ebcb",
   "metadata": {},
   "outputs": [
    {
     "data": {
      "image/png": "[encoded data removed]",
      "text/plain": [
       "<Figure size 576x432 with 1 Axes>"
      ]
     },
     "metadata": {
      "needs_background": "light"
     },
     "output_type": "display_data"
    }
   ],
   "source": [
    "#grafica distribucion de ingreso para varios años\n",
    "fig = plt.figure(figsize=(8,6))\n",
    "intervalos=range(1,25000,1000)\n",
    "plt.hist([ing_1mean,ing_4mean,ing_10mean,ing_99mean],bins=intervalos,color=[\"blue\",\"lime\",\"m\",\"yellow\"],\n",
    "         rwidth=0.85,lw=1,edgecolor='black',alpha=0.6,label=['Year 1','Year 4','Year 10','Year 99'])\n",
    "#plt.hist([pro_y10],bins=intervalos,color=\"green\",rwidth=0.85,lw=1,edgecolor='black',alpha=0.5,label='year 2')\n",
    "#plt.hist(pro_y10,bins=intervalos,color=\"black\",rwidth=0.85,lw=1,edgecolor='black',alpha=0.5,label='year 10')\n",
    "#plt.hist(pro_y29,bins=intervalos,color=\"purple\",rwidth=0.85,lw=1,edgecolor='black',alpha=0.5,label='year 29')\n",
    "plt.legend(loc='upper right')\n",
    "plt.xlabel('Ingreso')\n",
    "plt.ylabel('Distribucion de individuos')\n",
    "plt.title('Distribucion de ingreso para cuatro años')\n",
    "#fig.savefig('ingreso4.png')"
   ]
  },
  {
   "cell_type": "code",
   "execution_count": 83,
   "id": "c4e2ab53",
   "metadata": {},
   "outputs": [
    {
     "name": "stdout",
     "output_type": "stream",
     "text": [
      "[0, 1, 2, 3, 4, 5, 6, 7, 8, 9, 10, 11, 12, 13, 14, 15, 16, 17, 18, 19, 20, 21, 22, 23, 24, 25, 26, 27, 28, 29, 30, 31, 32, 33, 34, 35, 36, 37, 38, 39, 40, 41, 42, 43, 44, 45, 46, 47, 48, 49, 50, 51, 52, 53, 54, 55, 56, 57, 58, 59, 60, 61, 62, 63, 64, 65, 66, 67, 68, 69, 70, 71, 72, 73, 74, 75, 76, 77, 78, 79, 80, 81, 82, 83, 84, 85, 86, 87, 88, 89, 90, 91, 92, 93, 94, 95, 96, 97, 98, 99]\n"
     ]
    }
   ],
   "source": [
    "lista_t=[]\n",
    "for l in range(0,time_steps,1):\n",
    "    lista_t.append(l)\n",
    "print(lista_t)"
   ]
  },
  {
   "cell_type": "code",
   "execution_count": 166,
   "id": "606ae54a",
   "metadata": {},
   "outputs": [
    {
     "data": {
      "image/png": "[encoded data removed]",
      "text/plain": [
       "<Figure size 576x432 with 1 Axes>"
      ]
     },
     "metadata": {
      "needs_background": "light"
     },
     "output_type": "display_data"
    }
   ],
   "source": [
    "#numero de empleados\n",
    "fig = plt.figure(figsize=(8,6))\n",
    "plt.plot(lista_t,emp_alivemean,color='red',marker='o',alpha=0.5,label='Alive')\n",
    "plt.plot(lista_t,emp_enoughmean,color='lime',marker='o',alpha=0.5,label='Enough')\n",
    "plt.plot(lista_t,emp_satisfiedmean,color='blue',marker='o',alpha=0.5,label='Satisfied')\n",
    "plt.plot(lista_t,emp_luxurymean,color='m',marker='o',alpha=0.5,label='Luxury')\n",
    "plt.xlabel('Tiempo t (años)')\n",
    "plt.ylabel('Numero de personas')\n",
    "plt.legend(loc='upper right')\n",
    "#fig.savefig('numempleadosclase4.png')"
   ]
  },
  {
   "cell_type": "code",
   "execution_count": 167,
   "id": "7d3144e2",
   "metadata": {},
   "outputs": [
    {
     "data": {
      "image/png": "[encoded data removed]",
      "text/plain": [
       "<Figure size 576x432 with 1 Axes>"
      ]
     },
     "metadata": {
      "needs_background": "light"
     },
     "output_type": "display_data"
    }
   ],
   "source": [
    "fig = plt.figure(figsize=(8,6))\n",
    "plt.plot(lista_t,l_alivemean,color='red',marker='o',alpha=0.5,label='Alive')\n",
    "plt.plot(lista_t,l_enoughmean,color='lime',marker='o',alpha=0.5,label='Enough')\n",
    "plt.plot(lista_t,l_satisfiedmean,color='blue',marker='o',alpha=0.5,label='Satisfied')\n",
    "plt.plot(lista_t,l_luxurymean,color='m',marker='o',alpha=0.5,label='Luxury')\n",
    "plt.xlabel('Tiempo t (años)')\n",
    "plt.ylabel('Numero de personas')\n",
    "plt.legend(loc='upper right')\n",
    "#fig.savefig('dif_clase4.png')"
   ]
  },
  {
   "cell_type": "code",
   "execution_count": 169,
   "id": "bdb01f41",
   "metadata": {},
   "outputs": [
    {
     "data": {
      "image/png": "[encoded data removed]",
      "text/plain": [
       "<Figure size 576x432 with 1 Axes>"
      ]
     },
     "metadata": {
      "needs_background": "light"
     },
     "output_type": "display_data"
    }
   ],
   "source": [
    "fig = plt.figure(figsize=(8,6))\n",
    "plt.plot(lista_t,n_brokemean,'red',marker='<',alpha=0.5,label='Broke Sale')\n",
    "plt.plot(lista_t,n_premiumean,'blue',marker='<',alpha=0.5,label='Premium Buying')\n",
    "plt.xlabel('Tiempo t (años)')\n",
    "plt.ylabel('Numero de vendedores')\n",
    "plt.legend(loc='upper right')\n",
    "plt.yscale('linear')\n",
    "#fig.savefig('num_brokesale4.png')"
   ]
  },
  {
   "cell_type": "code",
   "execution_count": null,
   "id": "c4ab4d8b",
   "metadata": {},
   "outputs": [],
   "source": [
    "print(n_premium)"
   ]
  },
  {
   "cell_type": "code",
   "execution_count": null,
   "id": "3a8c192d",
   "metadata": {},
   "outputs": [],
   "source": []
  }
 ],
 "metadata": {
  "kernelspec": {
   "display_name": "Python 3",
   "language": "python",
   "name": "python3"
  },
  "language_info": {
   "codemirror_mode": {
    "name": "ipython",
    "version": 3
   },
   "file_extension": ".py",
   "mimetype": "text/x-python",
   "name": "python",
   "nbconvert_exporter": "python",
   "pygments_lexer": "ipython3",
   "version": "3.8.8"
  }
 },
 "nbformat": 4,
 "nbformat_minor": 5
}
