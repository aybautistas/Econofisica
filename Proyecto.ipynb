{
 "cells": [
  {
   "cell_type": "code",
   "execution_count": 1,
   "id": "3f3ac511",
   "metadata": {},
   "outputs": [],
   "source": [
    "import matplotlib.pyplot as plt\n",
    "import numpy as np\n",
    "import pandas as pd\n",
    "import random "
   ]
  },
  {
   "cell_type": "code",
   "execution_count": 2,
   "id": "20dad659",
   "metadata": {},
   "outputs": [],
   "source": [
    "class Persona:\n",
    "    def __init__(self,resource,productivity,science,wealth,income,saving,salary,InvestIncome,\n",
    "                GainedInvest,PayInvest,WorkIncome,empleados,status,indice,production,clase,consumption):\n",
    "        self.resource=resource\n",
    "        self.productivity=productivity\n",
    "        self.science=science\n",
    "        self.wealth=wealth\n",
    "        self.income=income\n",
    "        self.saving=saving\n",
    "        self.salary=salary\n",
    "        self.InvestIncome=InvestIncome\n",
    "        self.GainedInvest=GainedInvest\n",
    "        self.PayInvest=PayInvest\n",
    "        self.WorkIncome=WorkIncome\n",
    "        self.empleados=empleados\n",
    "        self.status=status #0->empleado #2->investor #1->ni empleado ni investor\n",
    "        self.indice=indice\n",
    "        self.production=production\n",
    "        self.clase=clase\n",
    "        self.consumption=consumption\n",
    "    #asignar indice\n",
    "    def a_indice(self,i):\n",
    "        self.indice=i\n",
    "    #calcular productivity\n",
    "    def c_productivity(self,mean,desviacion):\n",
    "        p=random.gauss(mean,desviacion)\n",
    "        if (p>=0):\n",
    "            self.productivity=p\n",
    "    #calcular production inicial\n",
    "    def initial_production(self,t):\n",
    "        self.production[t]=self.resource*self.productivity*self.science\n",
    "    def initial_wealth(self,i_wealth,t):\n",
    "        self.wealth[t]=i_wealth\n",
    "    def initial_saving(self,i_sav,t):\n",
    "        self.saving[t]=i_sav\n",
    "    #introducir empleados si es investor\n",
    "    def guardar_empleado(self,identificador): #me va a guardar el indice de cada empleado\n",
    "        self.empleados.append(identificador)\n",
    "    \n"
   ]
  },
  {
   "cell_type": "code",
   "execution_count": 3,
   "id": "3f4a2a87",
   "metadata": {},
   "outputs": [],
   "source": [
    "#calcular production\n",
    "def c_production(agentes,t):\n",
    "    for i in range(len(agentes)):\n",
    "        produc=agentes[i].resource*agentes[i].productivity*agentes[i].science\n",
    "        agentes[i].production[t]=produc"
   ]
  },
  {
   "cell_type": "code",
   "execution_count": 4,
   "id": "363b85f8",
   "metadata": {},
   "outputs": [],
   "source": [
    "#calcular workIncome\n",
    "def c_workincome(agentes,t):\n",
    "    for i in range(len(agentes)):\n",
    "        if (agentes[i].status==2): #si es inversionista\n",
    "            agentes[i].WorkIncome[t]=agentes[i].production[t]\n",
    "        if (agentes[i].status==0): #si es empleado\n",
    "            agentes[i].WorkIncome[t]=agentes[i].salary\n",
    "        if (agentes[i].status==1): #si no es empleado ni inversionista\n",
    "            agentes[i].WorkIncome[t]=agentes[i].production[t]"
   ]
  },
  {
   "cell_type": "code",
   "execution_count": 5,
   "id": "b667aa13",
   "metadata": {},
   "outputs": [],
   "source": [
    "#creamos una funcion para definir el investincome\n",
    "def c_investincome(agentes,t):\n",
    "    invest=0\n",
    "    for j in range(len(agentes)):\n",
    "        if (agentes[j].status==2):\n",
    "            for k in agentes[j].empleados:\n",
    "                invest=invest+agentes[k].production[t]-agentes[k].salary\n",
    "            agentes[j].InvestIncome[t]=invest\n",
    "           "
   ]
  },
  {
   "cell_type": "code",
   "execution_count": 6,
   "id": "88db4404",
   "metadata": {},
   "outputs": [],
   "source": [
    "#creamos una funcion para el income\n",
    "def c_income(agentes,t):\n",
    "    for i in range(len(agentes)):\n",
    "        inc=agentes[i].WorkIncome[t]+agentes[i].InvestIncome[t]\n",
    "        agentes[i].income[t]=inc"
   ]
  },
  {
   "cell_type": "code",
   "execution_count": 7,
   "id": "8305a600",
   "metadata": {},
   "outputs": [],
   "source": [
    "#creamos una funcion para wealth\n",
    "def c_wealth(agentes,t,tau):\n",
    "    for i in range(len(agentes)):\n",
    "        w=agentes[i].income[t]+agentes[i].saving[t-1]*(1-1.0/tau)\n",
    "        agentes[i].wealth[t]=w"
   ]
  },
  {
   "cell_type": "code",
   "execution_count": 8,
   "id": "ca5a1f91",
   "metadata": {},
   "outputs": [],
   "source": [
    "#creamos funcion de distribucion de clase [0 alive,1 enough,2 satisfied,3 luxury]\n",
    "def dist_clase(lista_consumo,agentes,t):\n",
    "    for i in range(len(agentes)):\n",
    "        for s in range(len(lista_consumo)):\n",
    "            if (s!=len(lista_consumo)-1):\n",
    "                min=lista_consumo[s]\n",
    "                max=lista_consumo[s+1]\n",
    "                if (agentes[i].wealth[t]>=min and agentes[i].wealth[t]<max):\n",
    "                    agentes[i].clase=s\n",
    "            if (s==len(lista_consumo)-1):\n",
    "                if (agentes[i].wealth[t]>=max):\n",
    "                     agentes[i].clase=s\n",
    "        if (agentes[i].wealth[t]<lista_consumo[0]):\n",
    "                ind=agentes[i].indice\n",
    "                #print(ind,t)\n",
    "                broke_sale(ind,agentes,lista_consumo[0],5000,t)"
   ]
  },
  {
   "cell_type": "code",
   "execution_count": 9,
   "id": "e18da72e",
   "metadata": {},
   "outputs": [],
   "source": [
    "#asignar consumo a cada uno\n",
    "def asignar_consumo(agentes,lista_consumo,t):\n",
    "    l_desviaciones=[500,1500,4*10**4,2*10**5]\n",
    "    for i in range(len(agentes)):\n",
    "        for s in range(len(lista_consumo)):\n",
    "            if agentes[i].clase==s:\n",
    "                c=np.abs(random.gauss(0,l_desviaciones[s]))\n",
    "                consumo=lista_consumo[s]+c\n",
    "                if (consumo>=lista_consumo[s] and consumo<agentes[i].wealth[t]):\n",
    "                    agentes[i].consumption[t]=consumo\n",
    "                if (consumo<lista_consumo[s] or consumo>agentes[i].wealth[t]):\n",
    "                    agentes[i].consumption[t]=lista_consumo[s]\n",
    "                if (agentes[i].wealth[t]<lista_consumo[0]):\n",
    "                    agentes[i].consumption[t]=0"
   ]
  },
  {
   "cell_type": "code",
   "execution_count": 45,
   "id": "f7631161",
   "metadata": {},
   "outputs": [],
   "source": [
    "#creamos funcion para contar el numero de agentes en cada clase\n",
    "def conteo_clase(agentes,clase0,clase1,clase2,clase3,t):\n",
    "    s0=0\n",
    "    s1=0\n",
    "    s2=0\n",
    "    s3=0\n",
    "    for i in range(len(agentes)):\n",
    "        if agentes[i].clase==0:\n",
    "            s0=s0+1\n",
    "        if agentes[i].clase==1:\n",
    "            s1=s1+1\n",
    "        if agentes[i].clase==2:\n",
    "            s2=s2+1\n",
    "        if agentes[i].clase==3:\n",
    "            s3=s3+1\n",
    "    clase0[t]=s0\n",
    "    clase1[t]=s1\n",
    "    clase2[t]=s2\n",
    "    clase3[t]=s3    "
   ]
  },
  {
   "cell_type": "code",
   "execution_count": 55,
   "id": "fef57923",
   "metadata": {},
   "outputs": [],
   "source": [
    "#funcion de interaccion tipo Broke sale\n",
    "def broke_sale(i,agentes,e_alive,e_satisfied,t):\n",
    "    \n",
    "#for j in range(len(agentes)):\n",
    "    if(agentes[i].wealth[t]<e_alive):\n",
    "        j=random.randint(0,len(agentes)-1)\n",
    "        expected_productivity=0\n",
    "        expected_production=0\n",
    "        if(i!=j and agentes[j].wealth[t]>=1*10**4):\n",
    "            expected_productivity=np.divide(agentes[i].productivity+agentes[j].productivity,2)\n",
    "            expected_production=agentes[i].resource*expected_productivity*agentes[i].science\n",
    "        #print('riqueza i antes de broke sale',agentes[i].wealth[t],t)\n",
    "        if (expected_production-e_alive>0 and agentes[j].status!=0):\n",
    "            #agentes[j].resource[t]=agentes[j].resource[t]+agentes[i].resource[t]\n",
    "            #agentes[i].resource[t]=1\n",
    "            #venta del recurso\n",
    "            #print('riqueza j antes de broke sale',agentes[j].wealth[t])\n",
    "            #print('i',i,'j',j,'t',t)\n",
    "            agentes[i].GainedInvest[t]=e_alive\n",
    "            #cambio en la energia\n",
    "            #agentes[i].wealth[t]=agentes[i].wealth[t]+e_alive\n",
    "            #agentes[j].wealth[t]=agentes[j].wealth[t]-e_alive\n",
    "            #print('riqueza i despues bsale',agentes[i].wealth[t])\n",
    "            #print('riqueza j despues bsale',agentes[j].wealth[t])\n",
    "            #cambia la productividad\n",
    "            agentes[i].productivity=np.divide(agentes[i].productivity+agentes[j].productivity,2)\n",
    "            #agentes[i].c_production(t)\n",
    "            agentes[i].salary=e_alive\n",
    "            agentes[j].guardar_empleado(agentes[i].indice)\n",
    "            setattr(agentes[i],'status',0)#cambiar status->empleado\n",
    "            setattr(agentes[j],'status',2)#cambiar status->investor\n"
   ]
  },
  {
   "cell_type": "code",
   "execution_count": 12,
   "id": "391ed9da",
   "metadata": {},
   "outputs": [],
   "source": [
    "#funcion para borrar personas que mueren\n",
    "def borrar_agente(agentes,e_alive,t):\n",
    "    for i in range(len(agentes)):\n",
    "        if (agentes[i].wealth[t]<e_alive and agentes[i].status!=0):\n",
    "            agentes.pop(agentes[i].indice)\n",
    "            "
   ]
  },
  {
   "cell_type": "code",
   "execution_count": 13,
   "id": "4e9a8260",
   "metadata": {},
   "outputs": [],
   "source": [
    "#calcular PayInvest\n",
    "def pay_invest(agentes,t):\n",
    "    pi=0\n",
    "    for j in range(len(agentes)):\n",
    "        if (agentes[j].status==2):\n",
    "            #print(agentes[j].indice)\n",
    "            for k in agentes[j].empleados:\n",
    "                pi=pi+agentes[k].GainedInvest[t]\n",
    "                #print('cada paso de tiempo',pi)\n",
    "            agentes[j].PayInvest[t]=pi\n",
    "            #print('final pi',pi)\n",
    "            pi=0\n",
    "            #print('pi vaciado',pi)"
   ]
  },
  {
   "cell_type": "code",
   "execution_count": 37,
   "id": "c429617d",
   "metadata": {},
   "outputs": [],
   "source": [
    "#calcular saving\n",
    "def c_saving(agentes,t):\n",
    "    sav=0\n",
    "    for i in range(len(agentes)):\n",
    "        \n",
    "        sav=agentes[i].wealth[t]+agentes[i].GainedInvest[t]-agentes[i].consumption[t]-agentes[i].PayInvest[t]\n",
    "        #print(sav,t)\n",
    "        agentes[i].saving[t]=sav\n",
    "        '''\n",
    "        if (agentes[i].status==0):\n",
    "            sav=agentes[i].wealth[t]-2500+agentes[i].GainedInvest[t]-agentes[i].consumption[t]-agentes[i].PayInvest[t]\n",
    "            agentes[i].saving[t]=sav\n",
    "        if (agentes[i].status==1 and agentes[i].wealth[t]>=2500):\n",
    "            sav=agentes[i].wealth[t]+agentes[i].GainedInvest[t]-agentes[i].consumption[t]-agentes[i].PayInvest[t]\n",
    "            agentes[i].saving[t]=sav\n",
    "        if (agentes[i].status==1 and agentes[i].wealth[t]<2500):\n",
    "            sav=0\n",
    "            agentes[i].saving[t]=sav\n",
    "        '''"
   ]
  },
  {
   "cell_type": "code",
   "execution_count": 72,
   "id": "bdf8fc70",
   "metadata": {},
   "outputs": [],
   "source": [
    "#Inicializacion por defecto creamos un vector de objetos y lo llenamos\n",
    "poblacion=[]#array de objetos que tiene a cada persona\n",
    "N=1*10**3\n",
    "n_tsteps=40\n",
    "empleados_per=[]\n",
    "l_production=np.zeros(n_tsteps)\n",
    "l_workincome=np.zeros(n_tsteps)\n",
    "l_investincome=np.zeros(n_tsteps)\n",
    "l_gainedinvest=np.zeros(n_tsteps)\n",
    "l_payinvest=np.zeros(n_tsteps)\n",
    "l_income=np.zeros(n_tsteps)\n",
    "l_wealth=np.zeros(n_tsteps)\n",
    "l_saving=np.zeros(n_tsteps)\n",
    "l_consumption=np.zeros(n_tsteps)\n",
    "l_alive=np.zeros(n_tsteps)\n",
    "l_enough=np.zeros(n_tsteps)\n",
    "l_satisfied=np.zeros(n_tsteps)\n",
    "l_luxury=np.zeros(n_tsteps)\n",
    "'''\n",
    "Persona(self,resource,productivity,science,wealth,income,saving,salary,InvestIncome,\n",
    "                GainedInvest,PayInvest,WorkIncome,empleados,status,indice,production,clase,consumption):\n",
    "'''   \n",
    "#para ---t=0-------\n",
    "for i in range(N):\n",
    "    per=Persona(1,1000,1,l_wealth,l_income,l_saving,0,l_investincome,l_gainedinvest\n",
    "                ,l_payinvest,l_workincome,empleados_per,1,0,l_production,0,l_consumption)\n",
    "    poblacion.append(per) #introducimos cada objeto en el array\n",
    "    poblacion[i].a_indice(i)#le asignamos su indice a cada uno\n",
    "    poblacion[i].c_productivity(5000,5000)#calculamos la productividad para cada uno mean y sd 5000\n",
    "    poblacion[i].initial_production(0) #calculamos la produccion segun productivity\n",
    "    poblacion[i].initial_wealth(5000,0)#asignamos inicialmente a todos la misma riqueza 5000\n",
    "    poblacion[i].initial_saving(5000,0)#el mismo ahorro inicial 5000\n",
    "    #poblacion[i].c_production(1)#calculamos la del año 1\n",
    "    l_workincome=np.zeros(n_tsteps)\n",
    "    l_production=np.zeros(n_tsteps)\n",
    "    l_workincome=np.zeros(n_tsteps)\n",
    "    l_investincome=np.zeros(n_tsteps)\n",
    "    l_gainedinvest=np.zeros(n_tsteps)\n",
    "    l_payinvest=np.zeros(n_tsteps)\n",
    "    l_income=np.zeros(n_tsteps)\n",
    "    l_wealth=np.zeros(n_tsteps)\n",
    "    l_saving=np.zeros(n_tsteps)\n",
    "    l_consumption=np.zeros(n_tsteps)\n",
    "    empleados_per=[]"
   ]
  },
  {
   "cell_type": "code",
   "execution_count": null,
   "id": "610b8ab1",
   "metadata": {},
   "outputs": [],
   "source": [
    "print(poblacion[0].production)\n",
    "print(poblacion[1].production)\n",
    "print(poblacion[2].production)"
   ]
  },
  {
   "cell_type": "code",
   "execution_count": 73,
   "id": "46c53ee5",
   "metadata": {},
   "outputs": [
    {
     "ename": "IndexError",
     "evalue": "pop index out of range",
     "output_type": "error",
     "traceback": [
      "\u001b[0;31m---------------------------------------------------------------------------\u001b[0m",
      "\u001b[0;31mIndexError\u001b[0m                                Traceback (most recent call last)",
      "\u001b[0;32m<ipython-input-73-6f67ab7d6ac7>\u001b[0m in \u001b[0;36m<module>\u001b[0;34m\u001b[0m\n\u001b[1;32m     13\u001b[0m     \u001b[0;31m#---segundo paso-----(2) dist. clase\u001b[0m\u001b[0;34m\u001b[0m\u001b[0;34m\u001b[0m\u001b[0;34m\u001b[0m\u001b[0m\n\u001b[1;32m     14\u001b[0m     \u001b[0mdist_clase\u001b[0m\u001b[0;34m(\u001b[0m\u001b[0mlista_clase\u001b[0m\u001b[0;34m,\u001b[0m\u001b[0mpoblacion\u001b[0m\u001b[0;34m,\u001b[0m\u001b[0mt\u001b[0m\u001b[0;34m)\u001b[0m\u001b[0;34m\u001b[0m\u001b[0;34m\u001b[0m\u001b[0m\n\u001b[0;32m---> 15\u001b[0;31m     \u001b[0mborrar_agente\u001b[0m\u001b[0;34m(\u001b[0m\u001b[0mpoblacion\u001b[0m\u001b[0;34m,\u001b[0m\u001b[0mlista_clase\u001b[0m\u001b[0;34m[\u001b[0m\u001b[0;36m0\u001b[0m\u001b[0;34m]\u001b[0m\u001b[0;34m,\u001b[0m\u001b[0mt\u001b[0m\u001b[0;34m)\u001b[0m\u001b[0;34m\u001b[0m\u001b[0;34m\u001b[0m\u001b[0m\n\u001b[0m\u001b[1;32m     16\u001b[0m     \u001b[0mc_production\u001b[0m\u001b[0;34m(\u001b[0m\u001b[0mpoblacion\u001b[0m\u001b[0;34m,\u001b[0m\u001b[0mt\u001b[0m\u001b[0;34m)\u001b[0m\u001b[0;31m#calculamos de nuevo production pues cambio la productividad\u001b[0m\u001b[0;34m\u001b[0m\u001b[0;34m\u001b[0m\u001b[0m\n\u001b[1;32m     17\u001b[0m     \u001b[0masignar_consumo\u001b[0m\u001b[0;34m(\u001b[0m\u001b[0mpoblacion\u001b[0m\u001b[0;34m,\u001b[0m\u001b[0mlista_clase\u001b[0m\u001b[0;34m,\u001b[0m\u001b[0mt\u001b[0m\u001b[0;34m)\u001b[0m\u001b[0;34m\u001b[0m\u001b[0;34m\u001b[0m\u001b[0m\n",
      "\u001b[0;32m<ipython-input-12-4d78cc5d4fa7>\u001b[0m in \u001b[0;36mborrar_agente\u001b[0;34m(agentes, e_alive, t)\u001b[0m\n\u001b[1;32m      3\u001b[0m     \u001b[0;32mfor\u001b[0m \u001b[0mi\u001b[0m \u001b[0;32min\u001b[0m \u001b[0mrange\u001b[0m\u001b[0;34m(\u001b[0m\u001b[0mlen\u001b[0m\u001b[0;34m(\u001b[0m\u001b[0magentes\u001b[0m\u001b[0;34m)\u001b[0m\u001b[0;34m)\u001b[0m\u001b[0;34m:\u001b[0m\u001b[0;34m\u001b[0m\u001b[0;34m\u001b[0m\u001b[0m\n\u001b[1;32m      4\u001b[0m         \u001b[0;32mif\u001b[0m \u001b[0;34m(\u001b[0m\u001b[0magentes\u001b[0m\u001b[0;34m[\u001b[0m\u001b[0mi\u001b[0m\u001b[0;34m]\u001b[0m\u001b[0;34m.\u001b[0m\u001b[0mwealth\u001b[0m\u001b[0;34m[\u001b[0m\u001b[0mt\u001b[0m\u001b[0;34m]\u001b[0m\u001b[0;34m<\u001b[0m\u001b[0me_alive\u001b[0m \u001b[0;32mand\u001b[0m \u001b[0magentes\u001b[0m\u001b[0;34m[\u001b[0m\u001b[0mi\u001b[0m\u001b[0;34m]\u001b[0m\u001b[0;34m.\u001b[0m\u001b[0mstatus\u001b[0m\u001b[0;34m!=\u001b[0m\u001b[0;36m0\u001b[0m\u001b[0;34m)\u001b[0m\u001b[0;34m:\u001b[0m\u001b[0;34m\u001b[0m\u001b[0;34m\u001b[0m\u001b[0m\n\u001b[0;32m----> 5\u001b[0;31m             \u001b[0magentes\u001b[0m\u001b[0;34m.\u001b[0m\u001b[0mpop\u001b[0m\u001b[0;34m(\u001b[0m\u001b[0magentes\u001b[0m\u001b[0;34m[\u001b[0m\u001b[0mi\u001b[0m\u001b[0;34m]\u001b[0m\u001b[0;34m.\u001b[0m\u001b[0mindice\u001b[0m\u001b[0;34m)\u001b[0m\u001b[0;34m\u001b[0m\u001b[0;34m\u001b[0m\u001b[0m\n\u001b[0m\u001b[1;32m      6\u001b[0m \u001b[0;34m\u001b[0m\u001b[0m\n",
      "\u001b[0;31mIndexError\u001b[0m: pop index out of range"
     ]
    }
   ],
   "source": [
    "#----para t=1 hasta n_timesteps-1-----\n",
    "#for t in range(1,n_timesteps,1):\n",
    "#para t=1\n",
    "random.seed(0)\n",
    "lista_clase=[2500,7500,2*10**5,10**6]\n",
    "for t in range(1,n_tsteps,1):\n",
    "    #---primer paso------(1)\n",
    "    c_production(poblacion,t)\n",
    "    c_workincome(poblacion,t)\n",
    "    c_investincome(poblacion,t) \n",
    "    c_income(poblacion,t)\n",
    "    c_wealth(poblacion,t,2)\n",
    "    #---segundo paso-----(2) dist. clase\n",
    "    dist_clase(lista_clase,poblacion,t)\n",
    "    borrar_agente(poblacion,lista_clase[0],t)\n",
    "    c_production(poblacion,t)#calculamos de nuevo production pues cambio la productividad\n",
    "    asignar_consumo(poblacion,lista_clase,t)\n",
    "    #----tercer paso------(3)payinvest\n",
    "    pay_invest(poblacion,t)\n",
    "    #----cuarto paso-----(4) saving\n",
    "    c_saving(poblacion,t)\n",
    "    conteo_clase(poblacion,l_alive,l_enough,l_satisfied,l_luxury,t)\n",
    "'''\n",
    "for i in range(len(poblacion)):\n",
    "    \n",
    "    #print('workincome'+str(i),poblacion[i].WorkIncome)\n",
    "    #print('investincome'+ str(i),poblacion[i].InvestIncome)\n",
    "    #print('income'+str(i),poblacion[i].income)\n",
    "    print('wealth'+str(i),poblacion[i].wealth)\n",
    "    #print('clase'+str(i),poblacion[i].clase)\n",
    "    #print('gainedinvest'+str(i),poblacion[i].GainedInvest)\n",
    "    print('consumo'+str(i),poblacion[i].consumption)\n",
    "    print('payinvest'+str(i),poblacion[i].PayInvest)\n",
    "    print('empleados'+str(i),poblacion[i].empleados)\n",
    "    print('saving'+str(i),poblacion[i].saving)\n",
    "    print('status'+str(i),poblacion[i].status)\n",
    "'''"
   ]
  },
  {
   "cell_type": "code",
   "execution_count": 68,
   "id": "c4e2ab53",
   "metadata": {},
   "outputs": [
    {
     "name": "stdout",
     "output_type": "stream",
     "text": [
      "[0, 1, 2, 3, 4, 5, 6, 7, 8, 9, 10, 11, 12, 13, 14, 15, 16, 17, 18, 19, 20, 21, 22, 23, 24, 25, 26, 27, 28, 29, 30, 31, 32, 33, 34, 35, 36, 37, 38, 39]\n"
     ]
    }
   ],
   "source": [
    "lista_t=[]\n",
    "for l in range(0,n_tsteps,1):\n",
    "    lista_t.append(l)\n",
    "print(lista_t)"
   ]
  },
  {
   "cell_type": "code",
   "execution_count": 69,
   "id": "7d3144e2",
   "metadata": {},
   "outputs": [
    {
     "data": {
      "text/plain": [
       "[<matplotlib.lines.Line2D at 0x7f02087479d0>]"
      ]
     },
     "execution_count": 69,
     "metadata": {},
     "output_type": "execute_result"
    },
    {
     "data": {
      "image/png": "[encoded data removed]",
      "text/plain": [
       "<Figure size 432x288 with 1 Axes>"
      ]
     },
     "metadata": {
      "needs_background": "light"
     },
     "output_type": "display_data"
    }
   ],
   "source": [
    "plt.plot(lista_t,l_alive,color='red',marker='o')\n",
    "plt.plot(lista_t,l_enough,color='blue',marker='o')\n",
    "plt.plot(lista_t,l_satisfied,color='green',marker='o')\n",
    "plt.plot(lista_t,l_luxury,color='yellow',marker='o')"
   ]
  },
  {
   "cell_type": "code",
   "execution_count": 75,
   "id": "24233ab1",
   "metadata": {},
   "outputs": [
    {
     "data": {
      "text/plain": [
       "[<matplotlib.lines.Line2D at 0x7f02085a8d30>]"
      ]
     },
     "execution_count": 75,
     "metadata": {},
     "output_type": "execute_result"
    },
    {
     "data": {
      "image/png": "[encoded data removed]",
      "text/plain": [
       "<Figure size 432x288 with 1 Axes>"
      ]
     },
     "metadata": {
      "needs_background": "light"
     },
     "output_type": "display_data"
    }
   ],
   "source": [
    "lista_pr=range(0,n_tsteps,1)\n",
    "plt.plot(lista_pr,l_alive,color='red',marker='o')"
   ]
  },
  {
   "cell_type": "code",
   "execution_count": null,
   "id": "2c02182a",
   "metadata": {},
   "outputs": [],
   "source": []
  }
 ],
 "metadata": {
  "kernelspec": {
   "display_name": "Python 3",
   "language": "python",
   "name": "python3"
  },
  "language_info": {
   "codemirror_mode": {
    "name": "ipython",
    "version": 3
   },
   "file_extension": ".py",
   "mimetype": "text/x-python",
   "name": "python",
   "nbconvert_exporter": "python",
   "pygments_lexer": "ipython3",
   "version": "3.8.8"
  }
 },
 "nbformat": 4,
 "nbformat_minor": 5
}
