{
 "cells": [
  {
   "cell_type": "code",
   "execution_count": 1,
   "id": "3f3ac511",
   "metadata": {},
   "outputs": [],
   "source": [
    "import matplotlib.pyplot as plt\n",
    "import numpy as np\n",
    "import pandas as pd\n",
    "import random "
   ]
  },
  {
   "cell_type": "code",
   "execution_count": 2,
   "id": "20dad659",
   "metadata": {},
   "outputs": [],
   "source": [
    "class Persona:\n",
    "    def __init__(self,resource,productivity,science,wealth,income,saving,salary,InvestIncome,lifestatus,\n",
    "                GainedInvest,PayInvest,WorkIncome,empleados,status,indice,production,clase,consumption):\n",
    "        self.resource=resource\n",
    "        self.productivity=productivity\n",
    "        self.science=science\n",
    "        self.wealth=wealth\n",
    "        self.income=income\n",
    "        self.saving=saving\n",
    "        self.salary=salary\n",
    "        self.InvestIncome=InvestIncome\n",
    "        self.GainedInvest=GainedInvest\n",
    "        self.PayInvest=PayInvest\n",
    "        self.lifestatus=lifestatus #0->vivo #1-> muerto\n",
    "        self.WorkIncome=WorkIncome\n",
    "        self.empleados=empleados\n",
    "        self.status=status #0->empleado #2->investor #1->ni empleado ni investor\n",
    "        self.indice=indice\n",
    "        self.production=production\n",
    "        self.clase=clase\n",
    "        self.consumption=consumption\n",
    "    #asignar indice\n",
    "    def a_indice(self,i):\n",
    "        self.indice=i\n",
    "    #calcular productivity\n",
    "    def initial_productivity(self,mean,desviacion,t):\n",
    "        p=random.gauss(mean,desviacion)\n",
    "        if (p>0):\n",
    "            self.productivity[t]=p\n",
    "    #calcular production inicial\n",
    "    def initial_production(self,t):\n",
    "        self.production[t]=self.resource*self.productivity[t]*self.science\n",
    "    def initial_wealth(self,i_wealth,t):\n",
    "        self.wealth[t]=i_wealth\n",
    "    def initial_saving(self,i_sav,t):\n",
    "        self.saving[t]=i_sav\n",
    "    #def initial_status(self,i_status,t):\n",
    "        #self.status[t]=i_status\n",
    "    #introducir empleados si es investor\n",
    "    def guardar_empleado(self,identificador): #me va a guardar el indice de cada empleado\n",
    "        self.empleados.append(identificador)\n",
    "\n",
    "    \n"
   ]
  },
  {
   "cell_type": "code",
   "execution_count": 3,
   "id": "c8f7679c",
   "metadata": {},
   "outputs": [],
   "source": [
    "#calcular productividad para cada año\n",
    "def c_productivity(agentes,t):\n",
    "    for i in range(len(agentes)):\n",
    "        if (agentes[i].lifestatus==0):\n",
    "            agentes[i].productivity[t]=agentes[i].productivity[t-1]"
   ]
  },
  {
   "cell_type": "code",
   "execution_count": 5,
   "id": "3f4a2a87",
   "metadata": {},
   "outputs": [],
   "source": [
    "#calcular production\n",
    "def c_production(agentes,t):\n",
    "    for i in range(len(agentes)):\n",
    "        if (agentes[i].lifestatus==0):\n",
    "            produc=agentes[i].resource*agentes[i].productivity[t]*agentes[i].science\n",
    "            agentes[i].production[t]=produc"
   ]
  },
  {
   "cell_type": "code",
   "execution_count": 6,
   "id": "363b85f8",
   "metadata": {},
   "outputs": [],
   "source": [
    "#calcular workIncome\n",
    "def c_workincome(agentes,t):\n",
    "    for i in range(len(agentes)):\n",
    "        if (agentes[i].lifestatus==0):\n",
    "            if (agentes[i].status==2): #si es inversionista\n",
    "                agentes[i].WorkIncome[t]=agentes[i].production[t]\n",
    "            if (agentes[i].status==0 or agentes[i].status==3): #si es empleado agregar status 3\n",
    "                agentes[i].WorkIncome[t]=agentes[i].salary\n",
    "            if (agentes[i].status==1): #si no es empleado ni inversionista\n",
    "                agentes[i].WorkIncome[t]=agentes[i].production[t]"
   ]
  },
  {
   "cell_type": "code",
   "execution_count": 7,
   "id": "b667aa13",
   "metadata": {},
   "outputs": [],
   "source": [
    "#creamos una funcion para definir el investincome\n",
    "def c_investincome(agentes,t):\n",
    "    invest=0\n",
    "    for j in range(len(agentes)):\n",
    "        if (agentes[j].status==2 and agentes[j].lifestatus==0):\n",
    "            for k in agentes[j].empleados:\n",
    "                invest=invest+agentes[k].production[t]-agentes[k].salary\n",
    "            agentes[j].InvestIncome[t]=invest\n"
   ]
  },
  {
   "cell_type": "code",
   "execution_count": 8,
   "id": "88db4404",
   "metadata": {},
   "outputs": [],
   "source": [
    "#creamos una funcion para el income\n",
    "def c_income(agentes,t):\n",
    "    for i in range(len(agentes)):\n",
    "        if (agentes[i].lifestatus==0):\n",
    "            inc=agentes[i].WorkIncome[t]+agentes[i].InvestIncome[t]\n",
    "            agentes[i].income[t]=inc"
   ]
  },
  {
   "cell_type": "code",
   "execution_count": 9,
   "id": "8305a600",
   "metadata": {},
   "outputs": [],
   "source": [
    "#creamos una funcion para wealth\n",
    "def c_wealth(agentes,t,tau):\n",
    "    for i in range(len(agentes)):\n",
    "        if (agentes[i].lifestatus==0):\n",
    "            w=agentes[i].income[t]+agentes[i].saving[t-1]*(1-1.0/tau)\n",
    "            agentes[i].wealth[t]=w"
   ]
  },
  {
   "cell_type": "code",
   "execution_count": 10,
   "id": "ca5a1f91",
   "metadata": {},
   "outputs": [],
   "source": [
    "#creamos funcion de distribucion de clase [0 alive,1 enough,2 satisfied,3 luxury]\n",
    "def dist_clase(lista_consumo,agentes,t,conteo_broke):\n",
    "    for i in range(len(agentes)):\n",
    "        if(agentes[i].lifestatus==0):\n",
    "            for s in range(len(lista_consumo)):\n",
    "                if (s!=len(lista_consumo)-1):\n",
    "                    min=lista_consumo[s]\n",
    "                    max=lista_consumo[s+1]\n",
    "                    if (agentes[i].wealth[t]>=min and agentes[i].wealth[t]<max):\n",
    "                        agentes[i].clase=s\n",
    "                if (s==len(lista_consumo)-1):\n",
    "                    if (agentes[i].wealth[t]>=max):\n",
    "                         agentes[i].clase=s\n",
    "            if (agentes[i].wealth[t]<lista_consumo[0]):\n",
    "                    ind=agentes[i].indice\n",
    "                    #print(ind,t)\n",
    "                    broke_sale(ind,agentes,lista_consumo[0],5000,t,conteo_broke)"
   ]
  },
  {
   "cell_type": "code",
   "execution_count": 11,
   "id": "e18da72e",
   "metadata": {},
   "outputs": [],
   "source": [
    "#asignar consumo a cada uno\n",
    "def asignar_consumo(agentes,lista_consumo,t):\n",
    "    l_desviaciones=[500,1500,4*10**4,2*10**5]\n",
    "    for i in range(len(agentes)):\n",
    "        if(agentes[i].lifestatus==0):\n",
    "            for s in range(len(lista_consumo)):\n",
    "                if agentes[i].clase==s:\n",
    "                    c=np.abs(random.gauss(0,l_desviaciones[s]))\n",
    "                    consumo=lista_consumo[s]+c\n",
    "                    if (consumo>=lista_consumo[s] and consumo<agentes[i].wealth[t]):\n",
    "                        agentes[i].consumption[t]=consumo\n",
    "                    if (consumo<lista_consumo[s] or consumo>agentes[i].wealth[t]):\n",
    "                        agentes[i].consumption[t]=lista_consumo[s]\n",
    "                    if (agentes[i].wealth[t]<lista_consumo[0]): #si esta muerto\n",
    "                        agentes[i].consumption[t]=0"
   ]
  },
  {
   "cell_type": "code",
   "execution_count": 12,
   "id": "fef57923",
   "metadata": {},
   "outputs": [],
   "source": [
    "#funcion de interaccion tipo Broke sale\n",
    "def broke_sale(i,agentes,e_alive,e_satisfied,t,conteo_broke):\n",
    "\n",
    "#for j in range(len(agentes)):\n",
    "    if(agentes[i].wealth[t]<e_alive):\n",
    "        j=random.randint(0,len(agentes)-1)\n",
    "        expected_productivity=0\n",
    "        expected_production=0\n",
    "        if(i!=j and agentes[j].wealth[t]>=1*10**4):\n",
    "            expected_productivity=np.divide(agentes[i].productivity[t]+agentes[j].productivity[t],2)\n",
    "            expected_production=agentes[i].resource*expected_productivity*agentes[i].science\n",
    "        #print('riqueza i antes de broke sale',agentes[i].wealth[t],t)\n",
    "        if ((expected_production-e_alive>0) and (agentes[j].status!=0 and agentes[j].status!=3)):\n",
    "            conteo_broke[t]+=1\n",
    "            #agentes[j].resource[t]=agentes[j].resource[t]+agentes[i].resource[t]\n",
    "            #agentes[i].resource[t]=1\n",
    "            #venta del recurso\n",
    "            #print('riqueza j antes de broke sale',agentes[j].wealth[t])\n",
    "            #print('i',i,'j',j,'t',t)\n",
    "            agentes[i].GainedInvest[t]=e_alive\n",
    "            #cambio en la energia\n",
    "            #agentes[i].wealth[t]=agentes[i].wealth[t]+e_alive\n",
    "            #agentes[j].wealth[t]=agentes[j].wealth[t]-e_alive\n",
    "            #print('riqueza i despues bsale',agentes[i].wealth[t])\n",
    "            #print('riqueza j despues bsale',agentes[j].wealth[t])\n",
    "            #cambia la productividad\n",
    "            agentes[i].productivity[t]=np.divide(agentes[i].productivity[t]+agentes[j].productivity[t],2)\n",
    "            #agentes[i].c_production(t)\n",
    "            agentes[i].salary=e_alive\n",
    "            agentes[j].guardar_empleado(agentes[i].indice)\n",
    "            #agentes[i].status[t]=0\n",
    "            #agentes[j].status[t]=2\n",
    "            setattr(agentes[i],'status',0)#cambiar status->empleado\n",
    "            setattr(agentes[j],'status',2)#cambiar status->investor\n"
   ]
  },
  {
   "cell_type": "code",
   "execution_count": 13,
   "id": "0b71f779",
   "metadata": {},
   "outputs": [],
   "source": [
    "def premium_buying(agentes,t,conteo_premium):\n",
    "    pot_sellers=[]\n",
    "    pot_investors=[]\n",
    "    for i in range(len(agentes)):\n",
    "        if (agentes[i].lifestatus==0):\n",
    "            if ((agentes[i].productivity[t]<10000 and agentes[i].productivity[t]>5000) and (agentes[i].status==1)):\n",
    "                    pot_sellers.append(agentes[i])\n",
    "                    #print('seller',agentes[i].indice)\n",
    "            if ((agentes[i].productivity[t]>22000) and (agentes[i].status!=0 and agentes[i].status!=3)):\n",
    "                    pot_investors.append(agentes[i])\n",
    "                    #print('investor',agentes[i].indice)\n",
    "    \n",
    "    #ordenamos los sellers con su productividad\n",
    "    pot_sellers.sort(key=lambda x: x.productivity[t])\n",
    "    #calculmamos suma potenctial investors\n",
    "    suma=sum(c.wealth[t] for c in pot_investors)\n",
    "    #print(suma)\n",
    "    \n",
    "    #calculamos probabilidad individual\n",
    "    probj=0\n",
    "    #tomar un investor aleatorio y calcular su probabilidad\n",
    "    for m in pot_sellers:\n",
    "        j=random.randint(0,len(pot_investors)-1)\n",
    "        probj=np.divide(pot_investors[j].wealth[t],suma)\n",
    "        #print('probabilidad',probj)\n",
    "        if (probj>0.2):\n",
    "                conteo_premium[t]+=1\n",
    "                m.GainedInvest[t]=2*m.consumption[t]\n",
    "                m.salary=1.1*m.production[t]\n",
    "                m.productivity[t]=np.divide(m.productivity[t]\n",
    "                                                         +pot_investors[j].productivity[t],2)\n",
    "                pot_investors[j].guardar_empleado(m.indice)\n",
    "                #m.status[t]=3\n",
    "                #pot_investors[j].status[t]=2\n",
    "                setattr(m,'status',3)#cambiar status a 3->empleado premium buying\n",
    "                setattr(pot_investors[j],'status',2)#cambiar status a 2->investor\n",
    "                #print(m.status)\n",
    "                \n",
    "\n",
    "        \n",
    "                \n"
   ]
  },
  {
   "cell_type": "code",
   "execution_count": 14,
   "id": "526971d7",
   "metadata": {},
   "outputs": [],
   "source": [
    "def check_premium(agentes,t,conteo_broke,conteo_premium):\n",
    "    if conteo_broke[t]==0 and t>5:\n",
    "        premium_buying(agentes,t,conteo_premium)\n",
    "    "
   ]
  },
  {
   "cell_type": "code",
   "execution_count": 15,
   "id": "391ed9da",
   "metadata": {},
   "outputs": [],
   "source": [
    "#funcion para borrar personas que mueren\n",
    "def borrar_agente(agentes,e_alive,t):\n",
    "    for i in range(len(agentes)):\n",
    "        if (agentes[i].wealth[t]<e_alive and agentes[i].status!=0):\n",
    "            setattr(agentes[i],'lifestatus',1) #pasar su estado a muerto\n",
    "            #print('agente que murio',agente.indice)\n",
    "            #print('life status agente muerto',agente.lifestatus)\n",
    "            #print('año de muerte',t)\n"
   ]
  },
  {
   "cell_type": "code",
   "execution_count": 16,
   "id": "4e9a8260",
   "metadata": {},
   "outputs": [],
   "source": [
    "#calcular PayInvest\n",
    "def pay_invest(agentes,t):\n",
    "    pi=0\n",
    "    for j in range(len(agentes)):\n",
    "        if (agentes[j].status==2 and agentes[j].lifestatus==0):\n",
    "            for k in agentes[j].empleados:\n",
    "                pi=pi+agentes[k].GainedInvest[t]\n",
    "                #print('cada paso de tiempo',pi)\n",
    "            agentes[j].PayInvest[t]=pi\n",
    "            #print('final pi',pi)\n",
    "            pi=0\n",
    "        #print('pi vaciado',pi)"
   ]
  },
  {
   "cell_type": "code",
   "execution_count": 17,
   "id": "c429617d",
   "metadata": {},
   "outputs": [],
   "source": [
    "#calcular saving\n",
    "def c_saving(agentes,t):\n",
    "    sav=0\n",
    "    for i in range(len(agentes)):\n",
    "        if(agentes[i].lifestatus==0):\n",
    "            sav=agentes[i].wealth[t]+agentes[i].GainedInvest[t]-agentes[i].consumption[t]-agentes[i].PayInvest[t]\n",
    "            #print(sav,t)\n",
    "            agentes[i].saving[t]=sav\n",
    "            '''\n",
    "        if (agentes[i].status==0):\n",
    "            sav=agentes[i].wealth[t]-2500+agentes[i].GainedInvest[t]-agentes[i].consumption[t]-agentes[i].PayInvest[t]\n",
    "            agentes[i].saving[t]=sav\n",
    "        if (agentes[i].status==1 and agentes[i].wealth[t]>=2500):\n",
    "            sav=agentes[i].wealth[t]+agentes[i].GainedInvest[t]-agentes[i].consumption[t]-agentes[i].PayInvest[t]\n",
    "            agentes[i].saving[t]=sav\n",
    "        if (agentes[i].status==1 and agentes[i].wealth[t]<2500):\n",
    "            sav=0\n",
    "            agentes[i].saving[t]=sav\n",
    "        '''"
   ]
  },
  {
   "cell_type": "code",
   "execution_count": 18,
   "id": "34a4025c",
   "metadata": {},
   "outputs": [],
   "source": [
    "#creamos funcion para contar el numero de agentes en cada clase\n",
    "def conteo_clase(agentes,clase0,clase1,clase2,clase3,t):\n",
    "    s0=0\n",
    "    s1=0\n",
    "    s2=0\n",
    "    s3=0\n",
    "    for i in range(len(agentes)):\n",
    "        if agentes[i].clase==0:\n",
    "            s0=s0+1\n",
    "        if agentes[i].clase==1:\n",
    "            s1=s1+1\n",
    "        if agentes[i].clase==2:\n",
    "            s2=s2+1\n",
    "        if agentes[i].clase==3:\n",
    "            s3=s3+1\n",
    "    clase0[t]=s0\n",
    "    clase1[t]=s1\n",
    "    clase2[t]=s2\n",
    "    clase3[t]=s3 "
   ]
  },
  {
   "cell_type": "code",
   "execution_count": 19,
   "id": "bff36269",
   "metadata": {},
   "outputs": [],
   "source": [
    "#funcion contar numero de seller broke sale y premium buying\n",
    "def conteo_seller(agentes,num_brokesale,num_premium,t):\n",
    "    nbroke=0\n",
    "    npremium=0\n",
    "    for i in range(len(agentes)):\n",
    "        if agentes[i].status==0:\n",
    "            nbroke=nbroke+1\n",
    "        if agentes[i].status==3:\n",
    "            npremium=npremium+1\n",
    "    num_brokesale[t]=nbroke\n",
    "    num_premium[t]=npremium"
   ]
  },
  {
   "cell_type": "code",
   "execution_count": 20,
   "id": "bdf8fc70",
   "metadata": {},
   "outputs": [],
   "source": [
    "#Inicializacion por defecto creamos un vector de objetos y lo llenamos\n",
    "#random.seed(0)\n",
    "poblacion=[]#array de objetos que tiene a cada persona\n",
    "N=1*10**4\n",
    "n_tsteps=100\n",
    "empleados_per=[]\n",
    "l_production=np.zeros(n_tsteps)\n",
    "l_workincome=np.zeros(n_tsteps)\n",
    "l_investincome=np.zeros(n_tsteps)\n",
    "l_gainedinvest=np.zeros(n_tsteps)\n",
    "l_payinvest=np.zeros(n_tsteps)\n",
    "l_income=np.zeros(n_tsteps)\n",
    "l_wealth=np.zeros(n_tsteps)\n",
    "l_saving=np.zeros(n_tsteps)\n",
    "l_consumption=np.zeros(n_tsteps)\n",
    "l_productivity=np.zeros(n_tsteps)\n",
    "l_status=np.zeros(n_tsteps)\n",
    "l_alive=np.zeros(n_tsteps)\n",
    "l_enough=np.zeros(n_tsteps)\n",
    "l_satisfied=np.zeros(n_tsteps)\n",
    "l_luxury=np.zeros(n_tsteps)\n",
    "n_brokesale=np.zeros(n_tsteps)\n",
    "n_premium=np.zeros(n_tsteps)\n",
    "'''\n",
    "Persona(self,resource,productivity,science,wealth,income,saving,salary,InvestIncome,lifestatus,\n",
    "                GainedInvest,PayInvest,WorkIncome,empleados,status,indice,production,clase,consumption):\n",
    "'''   \n",
    "#para ---t=0-------\n",
    "for i in range(N):\n",
    "    per=Persona(1,l_productivity,1,l_wealth,l_income,l_saving,0,l_investincome,0,l_gainedinvest\n",
    "                ,l_payinvest,l_workincome,empleados_per,1,0,l_production,0,l_consumption)\n",
    "    poblacion.append(per) #introducimos cada objeto en el array\n",
    "    poblacion[i].a_indice(i)#le asignamos su indice a cada uno\n",
    "    poblacion[i].initial_productivity(5000,5000,0)#calculamos la productividad para cada uno mean y sd 5000\n",
    "    poblacion[i].initial_production(0) #calculamos la produccion segun productivity\n",
    "    poblacion[i].initial_wealth(5000,0)#asignamos inicialmente a todos la misma riqueza 5000\n",
    "    poblacion[i].initial_saving(5000,0)#el mismo ahorro inicial 5000\n",
    "    #poblacion[i].initial_status(1,0)\n",
    "    #poblacion[i].c_production(1)#calculamos la del año 1\n",
    "    l_workincome=np.zeros(n_tsteps)\n",
    "    l_production=np.zeros(n_tsteps)\n",
    "    l_workincome=np.zeros(n_tsteps)\n",
    "    l_investincome=np.zeros(n_tsteps)\n",
    "    l_gainedinvest=np.zeros(n_tsteps)\n",
    "    l_payinvest=np.zeros(n_tsteps)\n",
    "    l_income=np.zeros(n_tsteps)\n",
    "    l_wealth=np.zeros(n_tsteps)\n",
    "    l_saving=np.zeros(n_tsteps)\n",
    "    l_consumption=np.zeros(n_tsteps)\n",
    "    l_productivity=np.zeros(n_tsteps)\n",
    "    #l_status=np.zeros(n_tsteps)\n",
    "    empleados_per=[]\n",
    "conteo_clase(poblacion,l_alive,l_enough,l_satisfied,l_luxury,0)\n",
    "#conteo_seller(poblacion,n_brokesale,n_premium,0)"
   ]
  },
  {
   "cell_type": "code",
   "execution_count": null,
   "id": "610b8ab1",
   "metadata": {},
   "outputs": [],
   "source": []
  },
  {
   "cell_type": "code",
   "execution_count": 21,
   "id": "46c53ee5",
   "metadata": {},
   "outputs": [
    {
     "data": {
      "text/plain": [
       "\"\\nfor i in range(len(poblacion)):\\n    \\n    #print('workincome'+str(i),poblacion[i].WorkIncome)\\n    #print('investincome'+ str(i),poblacion[i].InvestIncome)\\n    #print('income'+str(i),poblacion[i].income)\\n    print('wealth'+str(i),poblacion[i].wealth)\\n    #print('clase'+str(i),poblacion[i].clase)\\n    print('gainedinvest'+str(i),poblacion[i].GainedInvest)\\n    print('consumo'+str(i),poblacion[i].consumption)\\n    print('payinvest'+str(i),poblacion[i].PayInvest)\\n    print('empleados'+str(i),poblacion[i].empleados)\\n    #print('saving'+str(i),poblacion[i].saving)\\n    print('status'+str(i),poblacion[i].status)\\n    #print('production'+str(i),poblacion[i].production)\\n    print('productivity'+str(i),poblacion[i].productivity)\\n    #print('lifestatus'+str(i),poblacion[i].lifestatus)\\n\""
      ]
     },
     "execution_count": 21,
     "metadata": {},
     "output_type": "execute_result"
    }
   ],
   "source": [
    "#----para t=1 hasta n_timesteps-1-----\n",
    "#for t in range(1,n_timesteps,1):\n",
    "#para t=1\n",
    "random.seed(0)\n",
    "lista_clase=[2500,7500,2*10**5,10**6]\n",
    "for t in range(1,n_tsteps,1):\n",
    "    #---primer paso------(1)\n",
    "    c_productivity(poblacion,t)\n",
    "    c_production(poblacion,t)\n",
    "    c_workincome(poblacion,t)\n",
    "    c_investincome(poblacion,t) \n",
    "    c_income(poblacion,t)\n",
    "    c_wealth(poblacion,t,2)\n",
    "    #---segundo paso-----(2) dist. clase y asignar consumo\n",
    "    dist_clase(lista_clase,poblacion,t,n_brokesale)\n",
    "    #check_premium(poblacion,lista_clase,t)\n",
    "    borrar_agente(poblacion,lista_clase[0],t)\n",
    "    asignar_consumo(poblacion,lista_clase,t)\n",
    "    #ellos van a hacer premium buying despues de hacer broke sale\n",
    "    check_premium(poblacion,t,n_brokesale,n_premium)\n",
    "    c_production(poblacion,t)#calculamos de nuevo production pues cambio la productividad\n",
    "    #----tercer paso------(3)payinvest\n",
    "    pay_invest(poblacion,t)\n",
    "    #----cuarto paso-----(4) saving\n",
    "    c_saving(poblacion,t)\n",
    "    conteo_clase(poblacion,l_alive,l_enough,l_satisfied,l_luxury,t)\n",
    "    #conteo_seller(poblacion,n_brokesale,n_premium,t)\n",
    "'''\n",
    "for i in range(len(poblacion)):\n",
    "    \n",
    "    #print('workincome'+str(i),poblacion[i].WorkIncome)\n",
    "    #print('investincome'+ str(i),poblacion[i].InvestIncome)\n",
    "    #print('income'+str(i),poblacion[i].income)\n",
    "    print('wealth'+str(i),poblacion[i].wealth)\n",
    "    #print('clase'+str(i),poblacion[i].clase)\n",
    "    print('gainedinvest'+str(i),poblacion[i].GainedInvest)\n",
    "    print('consumo'+str(i),poblacion[i].consumption)\n",
    "    print('payinvest'+str(i),poblacion[i].PayInvest)\n",
    "    print('empleados'+str(i),poblacion[i].empleados)\n",
    "    #print('saving'+str(i),poblacion[i].saving)\n",
    "    print('status'+str(i),poblacion[i].status)\n",
    "    #print('production'+str(i),poblacion[i].production)\n",
    "    print('productivity'+str(i),poblacion[i].productivity)\n",
    "    #print('lifestatus'+str(i),poblacion[i].lifestatus)\n",
    "'''"
   ]
  },
  {
   "cell_type": "code",
   "execution_count": null,
   "id": "cdc79555",
   "metadata": {},
   "outputs": [],
   "source": [
    "#print(poblacion[50].WorkIncome[5])\n",
    "#print(n_brokesale)\n",
    "#print(n_premium)\n",
    "print(poblacion[0].status)\n",
    "print(poblacion[85].income[1])"
   ]
  },
  {
   "cell_type": "code",
   "execution_count": 22,
   "id": "0c4e74a5",
   "metadata": {},
   "outputs": [],
   "source": [
    "#lista de productividad para varios años\n",
    "pro_y0=[]\n",
    "pro_y2=[]\n",
    "pro_y10=[]\n",
    "pro_y29=[]\n",
    "for l in range(len(poblacion)):\n",
    "    pro_y0.append(poblacion[l].productivity[0])\n",
    "    pro_y2.append(poblacion[l].productivity[2])\n",
    "    pro_y10.append(poblacion[l].productivity[10])\n",
    "    pro_y29.append(poblacion[l].productivity[29])\n"
   ]
  },
  {
   "cell_type": "code",
   "execution_count": 23,
   "id": "f4d38b21",
   "metadata": {},
   "outputs": [
    {
     "data": {
      "text/plain": [
       "Text(0.5, 1.0, 'Distribucion de productividad para cuatro años diferentes')"
      ]
     },
     "execution_count": 23,
     "metadata": {},
     "output_type": "execute_result"
    },
    {
     "data": {
      "image/png": "[encoded data removed]",
      "text/plain": [
       "<Figure size 576x432 with 1 Axes>"
      ]
     },
     "metadata": {
      "needs_background": "light"
     },
     "output_type": "display_data"
    }
   ],
   "source": [
    "fig = plt.figure(figsize=(8,6))\n",
    "intervalos=range(1,20000,800)\n",
    "plt.hist([pro_y0,pro_y2,pro_y10,pro_y29],bins=intervalos,color=[\"skyblue\",\"green\",\"orange\",\"purple\"],\n",
    "         rwidth=0.85,lw=1,edgecolor='black',alpha=0.6,label=['year 0','year2','year10','year99'])\n",
    "#plt.hist([pro_y10],bins=intervalos,color=\"green\",rwidth=0.85,lw=1,edgecolor='black',alpha=0.5,label='year 2')\n",
    "#plt.hist(pro_y10,bins=intervalos,color=\"black\",rwidth=0.85,lw=1,edgecolor='black',alpha=0.5,label='year 10')\n",
    "#plt.hist(pro_y29,bins=intervalos,color=\"purple\",rwidth=0.85,lw=1,edgecolor='black',alpha=0.5,label='year 29')\n",
    "plt.legend(loc='upper right')\n",
    "plt.xlabel('Productividad')\n",
    "plt.ylabel('Distribucion de individuos')\n",
    "plt.title('Distribucion de productividad para cuatro años diferentes')\n",
    "#fig.savefig('productividad_difanos2.png')"
   ]
  },
  {
   "cell_type": "code",
   "execution_count": 24,
   "id": "b2e60016",
   "metadata": {},
   "outputs": [],
   "source": [
    "#lista de productividad por clase ultimo año\n",
    "pro_ali=[]\n",
    "pro_eno=[]\n",
    "pro_sat=[]\n",
    "pro_lux=[]\n",
    "for p in range(len(poblacion)):\n",
    "    if poblacion[p].clase==0:\n",
    "        pro_ali.append(poblacion[p].productivity[n_tsteps-1])\n",
    "    if poblacion[p].clase==1:\n",
    "        pro_eno.append(poblacion[p].productivity[n_tsteps-1])\n",
    "    if poblacion[p].clase==2:\n",
    "        pro_sat.append(poblacion[p].productivity[n_tsteps-1])\n",
    "    if poblacion[p].clase==3:\n",
    "        pro_lux.append(poblacion[p].productivity[n_tsteps-1])"
   ]
  },
  {
   "cell_type": "code",
   "execution_count": 25,
   "id": "550d14b6",
   "metadata": {},
   "outputs": [
    {
     "data": {
      "text/plain": [
       "Text(0.5, 1.0, 'Distribucion de productividad por clase para el ultimo año')"
      ]
     },
     "execution_count": 25,
     "metadata": {},
     "output_type": "execute_result"
    },
    {
     "data": {
      "image/png": "[encoded data removed]",
      "text/plain": [
       "<Figure size 576x432 with 1 Axes>"
      ]
     },
     "metadata": {
      "needs_background": "light"
     },
     "output_type": "display_data"
    }
   ],
   "source": [
    "#grafica distribucion de productividad por clase\n",
    "fig = plt.figure(figsize=(8,6))\n",
    "intervalos=range(1,20000,800)\n",
    "plt.hist([pro_ali,pro_eno,pro_sat,pro_lux],bins=intervalos,color=[\"blue\",\"lime\",\"m\",\"yellow\"],\n",
    "         rwidth=0.85,lw=1,edgecolor='black',alpha=0.6,label=['Alive','Enough','Satisfied','Luxury'])\n",
    "#plt.hist([pro_y10],bins=intervalos,color=\"green\",rwidth=0.85,lw=1,edgecolor='black',alpha=0.5,label='year 2')\n",
    "#plt.hist(pro_y10,bins=intervalos,color=\"black\",rwidth=0.85,lw=1,edgecolor='black',alpha=0.5,label='year 10')\n",
    "#plt.hist(pro_y29,bins=intervalos,color=\"purple\",rwidth=0.85,lw=1,edgecolor='black',alpha=0.5,label='year 29')\n",
    "plt.legend(loc='upper right')\n",
    "plt.xlabel('Productividad')\n",
    "plt.ylabel('Distribucion de individuos')\n",
    "plt.title('Distribucion de productividad por clase para el ultimo año')\n",
    "#fig.savefig('productividad_clase2.png')"
   ]
  },
  {
   "cell_type": "code",
   "execution_count": 26,
   "id": "02810dc8",
   "metadata": {},
   "outputs": [],
   "source": [
    "#sacar el ingreso del ultimo año\n",
    "ing1=[]\n",
    "ing4=[]\n",
    "ing10=[]\n",
    "ing39=[]\n",
    "for k in range(len(poblacion)):\n",
    "    ing1.append(poblacion[k].income[1])\n",
    "    ing4.append(poblacion[k].income[4])\n",
    "    ing10.append(poblacion[k].income[10])\n",
    "    ing39.append(poblacion[k].income[29])\n",
    "    "
   ]
  },
  {
   "cell_type": "code",
   "execution_count": 27,
   "id": "ee25ebcb",
   "metadata": {},
   "outputs": [
    {
     "data": {
      "text/plain": [
       "Text(0.5, 1.0, 'Distribucion de ingreso para cuatro años')"
      ]
     },
     "execution_count": 27,
     "metadata": {},
     "output_type": "execute_result"
    },
    {
     "data": {
      "image/png": "[encoded data removed]",
      "text/plain": [
       "<Figure size 576x432 with 1 Axes>"
      ]
     },
     "metadata": {
      "needs_background": "light"
     },
     "output_type": "display_data"
    }
   ],
   "source": [
    "#grafica distribucion de ingreso para varios años\n",
    "fig = plt.figure(figsize=(8,6))\n",
    "intervalos=range(1,25000,1000)\n",
    "plt.hist([ing1,ing4,ing10,ing39],bins=intervalos,color=[\"blue\",\"lime\",\"m\",\"yellow\"],\n",
    "         rwidth=0.85,lw=1,edgecolor='black',alpha=0.6,label=['Year 1','Year 4','Year 10','Year 99'])\n",
    "#plt.hist([pro_y10],bins=intervalos,color=\"green\",rwidth=0.85,lw=1,edgecolor='black',alpha=0.5,label='year 2')\n",
    "#plt.hist(pro_y10,bins=intervalos,color=\"black\",rwidth=0.85,lw=1,edgecolor='black',alpha=0.5,label='year 10')\n",
    "#plt.hist(pro_y29,bins=intervalos,color=\"purple\",rwidth=0.85,lw=1,edgecolor='black',alpha=0.5,label='year 29')\n",
    "plt.legend(loc='upper right')\n",
    "plt.xlabel('Ingreso')\n",
    "plt.ylabel('Distribucion de individuos')\n",
    "plt.title('Distribucion de ingreso para cuatro años')\n",
    "#fig.savefig('ingreso2.png')"
   ]
  },
  {
   "cell_type": "code",
   "execution_count": 28,
   "id": "c4e2ab53",
   "metadata": {},
   "outputs": [
    {
     "name": "stdout",
     "output_type": "stream",
     "text": [
      "[0, 1, 2, 3, 4, 5, 6, 7, 8, 9, 10, 11, 12, 13, 14, 15, 16, 17, 18, 19, 20, 21, 22, 23, 24, 25, 26, 27, 28, 29, 30, 31, 32, 33, 34, 35, 36, 37, 38, 39, 40, 41, 42, 43, 44, 45, 46, 47, 48, 49, 50, 51, 52, 53, 54, 55, 56, 57, 58, 59, 60, 61, 62, 63, 64, 65, 66, 67, 68, 69, 70, 71, 72, 73, 74, 75, 76, 77, 78, 79, 80, 81, 82, 83, 84, 85, 86, 87, 88, 89, 90, 91, 92, 93, 94, 95, 96, 97, 98, 99]\n"
     ]
    }
   ],
   "source": [
    "lista_t=[]\n",
    "for l in range(0,n_tsteps,1):\n",
    "    lista_t.append(l)\n",
    "print(lista_t)"
   ]
  },
  {
   "cell_type": "code",
   "execution_count": 29,
   "id": "7d3144e2",
   "metadata": {},
   "outputs": [
    {
     "data": {
      "text/plain": [
       "<matplotlib.legend.Legend at 0x7f1f16c7fe80>"
      ]
     },
     "execution_count": 29,
     "metadata": {},
     "output_type": "execute_result"
    },
    {
     "data": {
      "image/png": "[encoded data removed]",
      "text/plain": [
       "<Figure size 576x432 with 1 Axes>"
      ]
     },
     "metadata": {
      "needs_background": "light"
     },
     "output_type": "display_data"
    }
   ],
   "source": [
    "fig = plt.figure(figsize=(8,6))\n",
    "plt.plot(lista_t,l_alive,color='red',marker='o',alpha=0.5,label='Alive')\n",
    "plt.plot(lista_t,l_enough,color='lime',marker='o',alpha=0.5,label='Enough')\n",
    "plt.plot(lista_t,l_satisfied,color='blue',marker='o',alpha=0.5,label='Satisfied')\n",
    "plt.plot(lista_t,l_luxury,color='m',marker='o',alpha=0.5,label='Luxury')\n",
    "plt.xlabel('Tiempo t (años)')\n",
    "plt.ylabel('Numero de personas')\n",
    "plt.legend(loc='upper right')\n",
    "#fig.savefig('dif_clase2.png')"
   ]
  },
  {
   "cell_type": "code",
   "execution_count": 30,
   "id": "bdb01f41",
   "metadata": {},
   "outputs": [
    {
     "data": {
      "text/plain": [
       "<matplotlib.legend.Legend at 0x7f1f16bf05b0>"
      ]
     },
     "execution_count": 30,
     "metadata": {},
     "output_type": "execute_result"
    },
    {
     "data": {
      "image/png": "[encoded data removed]",
      "text/plain": [
       "<Figure size 576x432 with 1 Axes>"
      ]
     },
     "metadata": {
      "needs_background": "light"
     },
     "output_type": "display_data"
    }
   ],
   "source": [
    "fig = plt.figure(figsize=(8,6))\n",
    "plt.plot(lista_t,n_brokesale,'red',marker='<',alpha=0.5,label='Broke Sale')\n",
    "plt.plot(lista_t,n_premium,'blue',marker='<',alpha=0.5,label='Premium Buying')\n",
    "plt.xlabel('Tiempo t (años)')\n",
    "plt.ylabel('Numero de vendedores')\n",
    "plt.legend(loc='upper right')\n",
    "#fig.savefig('num_brokesale2.png')"
   ]
  },
  {
   "cell_type": "code",
   "execution_count": null,
   "id": "c4ab4d8b",
   "metadata": {},
   "outputs": [],
   "source": [
    "print(n_premium)"
   ]
  },
  {
   "cell_type": "code",
   "execution_count": null,
   "id": "3a8c192d",
   "metadata": {},
   "outputs": [],
   "source": []
  }
 ],
 "metadata": {
  "kernelspec": {
   "display_name": "Python 3",
   "language": "python",
   "name": "python3"
  },
  "language_info": {
   "codemirror_mode": {
    "name": "ipython",
    "version": 3
   },
   "file_extension": ".py",
   "mimetype": "text/x-python",
   "name": "python",
   "nbconvert_exporter": "python",
   "pygments_lexer": "ipython3",
   "version": "3.8.8"
  }
 },
 "nbformat": 4,
 "nbformat_minor": 5
}
